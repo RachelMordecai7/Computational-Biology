{
 "cells": [
  {
   "cell_type": "code",
   "execution_count": 2,
   "metadata": {},
   "outputs": [],
   "source": [
    "import numpy as np\n",
    "import matplotlib.pyplot as plt"
   ]
  },
  {
   "cell_type": "code",
   "execution_count": 3,
   "metadata": {},
   "outputs": [
    {
     "name": "stdout",
     "output_type": "stream",
     "text": [
      "2♣\n",
      "Q♣\n",
      "False\n",
      "True\n",
      "False\n",
      "True\n",
      "True\n",
      "False\n"
     ]
    }
   ],
   "source": [
    "class Card():\n",
    "    \"\"\"Playing card\"\"\"\n",
    "    \n",
    "    rankMap = [(\"%d\" % i) for i in range(13)] # Class attributes\n",
    "    (rankMap[0],rankMap[1],*rankMap[11:13]) = ('None','A','J','Q','K')\n",
    "    # Interestingly, it seems that I can only use * in the left side once, so I cannot * both vectors\n",
    "    # print(rankMap)\n",
    "    suitMap = ['♣','♢','♡','♠']\n",
    "    # ['None', 'A', '2', '3', '4', '5', '6', '7', '8', '9', '10', 'J', 'Q', 'K']\n",
    "    decoderRanks = {'A':1, 'J':11, 'Q':12, 'K':13}\n",
    "    decoderSuit = {'c':0, 'd':1, 'h':2, 's':3}    \n",
    "    \n",
    "    def __init__(self,suit=0,rank=1):\n",
    "        if isinstance(suit, int):\n",
    "            self.suit = suit # Instance attributes\n",
    "        elif type(suit)==str:\n",
    "            self.suit = Card.decoderSuit[suit]\n",
    "        else:\n",
    "            raise ValueErorr('Illegal card suit declaration')\n",
    "        \n",
    "        if isinstance(rank, int):\n",
    "            self.rank = rank\n",
    "        elif type(rank)==str:\n",
    "            if rank in Card.decoderRanks.keys():\n",
    "                self.rank = Card.decoderRanks[rank]\n",
    "            else:\n",
    "                self.rank = int(rank) # Evaluate string\n",
    "        else:\n",
    "            raise ValueError('Illegal card rank declaration')\n",
    "        \n",
    "    def __str__(self):\n",
    "        return \"%s%s\" % (Card.rankMap[self.rank] , Card.suitMap[self.suit])\n",
    "           \n",
    "    def __eq__(self,other):\n",
    "        return (self.rank==other.rank) & (self.suit==other.suit)\n",
    "    \n",
    "    def __gt__(self,other): \n",
    "        # They removed __cmp__ in Python 3, replacing it with: eq, ne, lt, le, gt, ge\n",
    "        # However, Python somehow guesses how > will behave knowing <. So the minimum includes EQ, GT & GE\n",
    "        # And then there's also __repr__ that is used for eval(). In this case, will be \"Card(0,1)\" - but with actual values\n",
    "        return (self.suit, self.rank) > (other.suit, other.rank) # Uses the fancy lexicographicish way tuples are compared\n",
    "        \n",
    "    def __ge__(self,other):\n",
    "        return self.__gt__(other) | self.__eq__(other)\n",
    "        \n",
    "\n",
    "a = Card(0,2)\n",
    "print(a)\n",
    "print(Card('c','Q'))\n",
    "print(a==Card(0,3))\n",
    "print(a!=Card(0,3))\n",
    "print(a>Card(0,3))\n",
    "print(a<Card(0,3))\n",
    "print(a<=Card(0,3))\n",
    "print(a>=Card(0,3))"
   ]
  },
  {
   "cell_type": "code",
   "execution_count": 4,
   "metadata": {},
   "outputs": [],
   "source": [
    "import random"
   ]
  },
  {
   "cell_type": "code",
   "execution_count": 5,
   "metadata": {},
   "outputs": [
    {
     "name": "stdout",
     "output_type": "stream",
     "text": [
      "Deck[52]: A♣ 2♣ 3♣ 4♣ 5♣ 6♣ 7♣ 8♣ 9♣ 10♣ J♣ Q♣ K♣ A♢ 2♢ 3♢ 4♢ 5♢ 6♢ 7♢ 8♢ 9♢ 10♢ J♢ Q♢ K♢ A♡ 2♡ 3♡ 4♡ 5♡ 6♡ 7♡ 8♡ 9♡ 10♡ J♡ Q♡ K♡ A♠ 2♠ 3♠ 4♠ 5♠ 6♠ 7♠ 8♠ 9♠ 10♠ J♠ Q♠ K♠\n",
      "K♠\n",
      "Deck[52]: A♣ 2♣ 3♣ 4♣ 5♣ 6♣ 7♣ 8♣ 9♣ 10♣ J♣ Q♣ K♣ A♢ 2♢ 3♢ 4♢ 5♢ 6♢ 7♢ 8♢ 9♢ 10♢ J♢ Q♢ K♢ A♡ 2♡ 3♡ 4♡ 5♡ 6♡ 7♡ 8♡ 9♡ 10♡ J♡ Q♡ K♡ A♠ 2♠ 3♠ 4♠ 5♠ 6♠ 7♠ 8♠ 9♠ 10♠ J♠ Q♠ 2♡\n",
      "Deck[52]: 6♡ J♢ 10♡ 2♣ J♣ 5♢ 4♡ 4♢ 7♠ 9♠ Q♢ 8♡ 6♠ 7♢ J♠ A♠ Q♡ 5♡ A♣ 7♣ 3♣ 6♢ 2♢ 10♠ 8♢ 3♢ 4♠ Q♠ Q♣ 2♡ 5♣ 5♠ 8♣ 9♣ 10♢ 8♠ 6♣ K♣ 9♢ A♡ 3♡ 2♡ K♡ 9♡ A♢ 2♠ 4♣ J♡ 10♣ K♢ 3♠ 7♡\n"
     ]
    }
   ],
   "source": [
    "class Deck(object):\n",
    "    \"\"\"Deck of cards\"\"\"\n",
    "    \n",
    "    def __init__(self):\n",
    "        self.cards = []\n",
    "        self.label = 'Deck'\n",
    "        for s in range(4):\n",
    "            for r in range(1,14):\n",
    "                self.cards.append(Card(s,r))\n",
    "                \n",
    "    def __str__(self):\n",
    "        res = []\n",
    "        res.append('%s[%d]:' % (self.label,len(self.cards)))\n",
    "        for card in self.cards:\n",
    "            # res = res+str(card)+'|' # This is slow, apparently\n",
    "            res.append(str(card)) # Fast: first a list, then join all with a delim\n",
    "        return ' '.join(res)\n",
    "    \n",
    "    def pop(self): # Returns last card and updates the array (actual pop)\n",
    "        return self.cards.pop()\n",
    "    \n",
    "    def add(self,card):\n",
    "        self.cards.append(card)\n",
    "        \n",
    "    def shuffle(self):\n",
    "        random.shuffle(self.cards)\n",
    "        \n",
    "    def deal(self,hand,num=1):\n",
    "        for i in range(num):\n",
    "            hand.add(self.pop())\n",
    "            \n",
    "    def len(self):\n",
    "        return len(self.cards)\n",
    "    \n",
    "                \n",
    "d = Deck()\n",
    "print(d)\n",
    "print(d.pop())\n",
    "d.add(Card(2,2))\n",
    "print(d)\n",
    "d.shuffle()\n",
    "print(d)"
   ]
  },
  {
   "cell_type": "code",
   "execution_count": 6,
   "metadata": {},
   "outputs": [
    {
     "data": {
      "text/plain": [
       "__main__.Deck"
      ]
     },
     "execution_count": 6,
     "metadata": {},
     "output_type": "execute_result"
    }
   ],
   "source": [
    "def find_defining_class(obj,_method): # Author's advice on localizing which class a method is inhereted from\n",
    "    for _type in type(obj).mro(): # mro() stands for Method Resolution Order\n",
    "        if _method in _type.__dict__:\n",
    "            return _type\n",
    "\n",
    "find_defining_class(d, 'shuffle')"
   ]
  },
  {
   "cell_type": "code",
   "execution_count": 7,
   "metadata": {},
   "outputs": [],
   "source": [
    "class Hand(Deck): # Inheritance: inherits to the main Deck class\n",
    "    \"\"\"Hand of cards\"\"\"\n",
    "    \n",
    "    def __init__(self,content=''):\n",
    "        self.cards = []\n",
    "        self.label = ''\n",
    "        if len(content)>0:\n",
    "            clist = content.split(' ')\n",
    "            for code in clist:\n",
    "                self.add(Card(code[-1],code[:-1])) # First suit, then rank\n",
    "        self.classify()\n",
    "        \n",
    "    def take(self,deck,n=1):\n",
    "        deck.deal(self,n)\n",
    "        \n",
    "    def count_chain(ranks):\n",
    "        \"\"\"Wrapper for count_chain_inner that checks Ace as both 1 and 14\"\"\"\n",
    "        ranks2 = [i if i!=1 else 14 for i in ranks]\n",
    "        return max(Hand.count_chain_inner(ranks) , Hand.count_chain_inner(ranks2))\n",
    "        \n",
    "    def count_chain_inner(ranks):\n",
    "        \"\"\"Looks for straights in a list of ranks\"\"\"\n",
    "        ranks = list(set(ranks))\n",
    "        ranks.sort()\n",
    "        longest_chain = 0\n",
    "        current_chain = 0\n",
    "        for _ in range(len(ranks)-1):\n",
    "            if ranks[_+1]-ranks[_]==1: # Count correct transitions from one card to next card\n",
    "                current_chain += 1\n",
    "                if longest_chain<current_chain:\n",
    "                    longest_chain = current_chain\n",
    "            else:\n",
    "                current_chain = 0\n",
    "        return longest_chain+1 # We add 1 because 1 transition is 2 cards etc.\n",
    "        \n",
    "    def classify(self):\n",
    "        \"\"\"Classifies a poker hand\"\"\"\n",
    "        if len(self.cards)==0:\n",
    "            return\n",
    "        self.cards.sort() # Because we defined all <>, we can sort cards! May be helpful.\n",
    "        histR = {}\n",
    "        histS = {}\n",
    "        for c in self.cards:\n",
    "            histR[c.rank] = histR.get(c.rank,0)+1\n",
    "            histS[c.suit] = histS.get(c.suit,0)+1\n",
    "        v = [histR[_] for _ in histR.keys()]\n",
    "        \n",
    "        longest_chain = []\n",
    "        for i_suit in range(4):\n",
    "            longest_chain.append(0) \n",
    "            longest_chain[i_suit] = Hand.count_chain([c.rank for c in self.cards if c.suit==i_suit])\n",
    "        single_color_chain = max(longest_chain)        \n",
    "        overall_chain = Hand.count_chain([c.rank for c in self.cards])\n",
    "\n",
    "        if single_color_chain>=5:\n",
    "            self.label = 'Straight Flush'\n",
    "        elif max(v)==4:\n",
    "            self.label = 'Four'\n",
    "        elif sum([_==3 for _ in v])==1 & sum([_==2 for _ in v])==1:\n",
    "            self.label = 'House'\n",
    "        elif max([histS[_] for _ in histS.keys()])==5:\n",
    "            self.label = 'Flush'\n",
    "        elif overall_chain>=5:\n",
    "            self.label = 'Straight'\n",
    "        elif max(v)==3:\n",
    "            self.label = 'Three'\n",
    "        elif sum([_==2 for _ in v])==2:\n",
    "            self.label = '2 pairs'\n",
    "        elif sum([_==2 for _ in v])==1:\n",
    "            self.label = 'Pair'\n",
    "        else:\n",
    "            self.label = 'none'"
   ]
  },
  {
   "cell_type": "code",
   "execution_count": 8,
   "metadata": {},
   "outputs": [
    {
     "name": "stdout",
     "output_type": "stream",
     "text": [
      "Straight[7]: 9♣ 6♢ 8♢ Q♢ 5♡ 7♡ 8♠\n"
     ]
    }
   ],
   "source": [
    "print(Hand('9c 6d 8d Qd 5h 7h 8s'))"
   ]
  },
  {
   "cell_type": "code",
   "execution_count": 9,
   "metadata": {},
   "outputs": [
    {
     "name": "stdout",
     "output_type": "stream",
     "text": [
      "none[7]: 2♣ 5♣ J♢ Q♢ 3♡ 4♠ 9♠\n",
      "Straight[7]: 6♣ 9♣ Q♣ K♡ 7♠ 8♠ 10♠\n",
      "none[7]: A♣ 6♢ 8♡ 10♡ Q♡ 2♠ K♠\n",
      "none[7]: J♣ A♢ 10♢ 2♡ 4♡ 9♡ Q♠\n",
      "Pair[7]: 5♢ 8♢ 9♢ K♢ A♡ 5♠ J♠\n",
      "none[7]: 3♣ 8♣ 10♣ K♣ 4♢ J♡ 6♠\n",
      "Straight[7]: 4♣ 2♢ 3♢ 7♢ 5♡ 6♡ A♠\n",
      "Flush[7]: 2♣ 7♣ 2♢ 3♢ 7♢ 9♢ K♢\n",
      "2 pairs[7]: 9♣ K♣ 6♢ 4♡ 6♡ 9♡ Q♠\n",
      "           Pair: \t 44.12286\n",
      "        2 pairs: \t 21.66857\n",
      "          Three: \t  4.96857\n",
      "       Straight: \t  4.59857\n",
      "          Flush: \t  2.96429\n",
      "          House: \t  2.40143\n",
      "           Four: \t  0.16143\n",
      " Straight Flush: \t  0.03000\n",
      "           none: \t 19.08429\n"
     ]
    }
   ],
   "source": [
    "handSize = 7\n",
    "type_hist = {'Pair':0, '2 pairs':0, 'Three':0, 'Straight':0, 'Flush':0, 'House':0, 'Four':0, 'Straight Flush':0}\n",
    "counter = 0\n",
    "for j in range(10000):\n",
    "    d = Deck()\n",
    "    d.shuffle()\n",
    "    hs_in_d = int(d.len()/handSize)\n",
    "    for i in range(hs_in_d):\n",
    "        counter += 1\n",
    "        h = Hand()\n",
    "        h.take(d,handSize)\n",
    "        h.classify()\n",
    "        type_hist[h.label] = type_hist.get(h.label,0)+1\n",
    "        if counter<10:\n",
    "            print(h)\n",
    "        \n",
    "print('\\n'.join([\"%15s: \\t %8.5f\" % (i,100.0*type_hist[i]/counter) for i in type_hist.keys()]))"
   ]
  },
  {
   "cell_type": "code",
   "execution_count": 10,
   "metadata": {},
   "outputs": [
    {
     "name": "stdout",
     "output_type": "stream",
     "text": [
      "Straight[7]: 3♣ 4♣ 5♣ 5♣ 2♢ 7♢ A♡\n"
     ]
    }
   ],
   "source": [
    "shift = random.randint(1,13-5)\n",
    "ranks = [_+shift for _ in range(5)] + [random.randint(1,13) for _ in range(2)]\n",
    "suits = [random.randint(0,3) for _ in range(7)]\n",
    "h = Hand()\n",
    "h.cards = [Card(suits[_],ranks[_]) for _ in range(7)]\n",
    "h.shuffle()\n",
    "h.classify()\n",
    "print(h)"
   ]
  },
  {
   "cell_type": "code",
   "execution_count": null,
   "metadata": {},
   "outputs": [],
   "source": []
  }
 ],
 "metadata": {
  "kernelspec": {
   "display_name": "Python 3",
   "language": "python",
   "name": "python3"
  },
  "language_info": {
   "codemirror_mode": {
    "name": "ipython",
    "version": 3
   },
   "file_extension": ".py",
   "mimetype": "text/x-python",
   "name": "python",
   "nbconvert_exporter": "python",
   "pygments_lexer": "ipython3",
   "version": "3.7.4"
  }
 },
 "nbformat": 4,
 "nbformat_minor": 2
}
