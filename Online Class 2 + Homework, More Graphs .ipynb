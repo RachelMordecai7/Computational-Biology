{
 "cells": [
  {
   "cell_type": "markdown",
   "metadata": {},
   "source": [
    "# Learning About Graphs"
   ]
  },
  {
   "cell_type": "code",
   "execution_count": 2,
   "metadata": {
    "scrolled": true
   },
   "outputs": [
    {
     "data": {
      "text/plain": [
       "(1, 2)"
      ]
     },
     "execution_count": 2,
     "metadata": {},
     "output_type": "execute_result"
    }
   ],
   "source": [
    "(1,2) \n",
    "#A tuple can have numbers in it or strings (etc)\n",
    "#They alwasy travel together"
   ]
  },
  {
   "cell_type": "code",
   "execution_count": 3,
   "metadata": {},
   "outputs": [
    {
     "data": {
      "text/plain": [
       "{1: [2, 3], 0: [1, 4]}"
      ]
     },
     "execution_count": 3,
     "metadata": {},
     "output_type": "execute_result"
    }
   ],
   "source": [
    "#To store all node values, we need to create a dictionary, here is an example\n",
    "a = {1:[2,3], 0:[1,4]}\n",
    "a"
   ]
  },
  {
   "cell_type": "code",
   "execution_count": 4,
   "metadata": {},
   "outputs": [
    {
     "data": {
      "text/plain": [
       "True"
      ]
     },
     "execution_count": 4,
     "metadata": {},
     "output_type": "execute_result"
    }
   ],
   "source": [
    "0 in a #Check to see if an element is in the dictionary"
   ]
  },
  {
   "cell_type": "code",
   "execution_count": 5,
   "metadata": {},
   "outputs": [],
   "source": [
    "import numpy as np\n",
    "import matplotlib.pyplot as plt\n",
    "import networkx as nx"
   ]
  },
  {
   "cell_type": "code",
   "execution_count": 6,
   "metadata": {},
   "outputs": [
    {
     "name": "stdout",
     "output_type": "stream",
     "text": [
      "1 dog\n",
      "2 cat\n"
     ]
    }
   ],
   "source": [
    "a = {1:\"dog\", 2:\"cat\"} #Dictionary \n",
    "list(a.keys()) #This will create a list of keys\n",
    "for key, value in a.items():\n",
    "    print(key,value) #This creates the list of dog and cat "
   ]
  },
  {
   "cell_type": "code",
   "execution_count": 8,
   "metadata": {},
   "outputs": [
    {
     "name": "stdout",
     "output_type": "stream",
     "text": [
      "A graph of 7 nodes:\n",
      "0:[1, 2]\n",
      "1:[0]\n",
      "2:[0]\n",
      "3:[4]\n",
      "4:[3, 5]\n",
      "5:[4]\n",
      "7:[]\n",
      "\n",
      "Nodes: [0, 1, 2, 3, 4, 5, 7]\n",
      "Edges: [(0, 1), (0, 2), (3, 4), (4, 5)]\n"
     ]
    },
    {
     "data": {
      "image/png": "[encoded data removed]",
      "text/plain": [
       "<Figure size 432x288 with 1 Axes>"
      ]
     },
     "metadata": {},
     "output_type": "display_data"
    }
   ],
   "source": [
    "class Graph():\n",
    "    def __init__(self):\n",
    "        self.gdict = {}\n",
    "        \n",
    "    def add_node(self, node):\n",
    "        \"\"\"If node is not in a dictionary, add it.\"\"\"\n",
    "        if node not in self.gdict:\n",
    "            self.gdict[node] = []\n",
    "    \n",
    "    def add_edge(self, node1, node2):        \n",
    "        self.add_node(node1)\n",
    "        self.add_node(node2)\n",
    "        #Adding node2 connecting to node1, and node1 connecting to node2\n",
    "        if node2 not in self.gdict[node1]:\n",
    "            self.gdict[node1].append(node2)\n",
    "        if node1 not in self.gdict[node2]:\n",
    "            self.gdict[node2].append(node1)\n",
    "            \n",
    "    def nodes(self):\n",
    "        \"\"\"Returns a list of nodes.\"\"\"\n",
    "        return list(self.gdict.keys())\n",
    "    \n",
    "    def edges(self):\n",
    "        \"\"\"Returns a list of edges.\"\"\"\n",
    "        out = []\n",
    "        for node,links in self.gdict.items():\n",
    "            for link in links:\n",
    "                if node<link:\n",
    "                    out.append((node,link))\n",
    "        return out\n",
    "            \n",
    "    def __str__(self):\n",
    "        out = 'A graph of ' + str(len(self.gdict)) + ' nodes:\\n'\n",
    "        for node in self.gdict:\n",
    "            out += str(node) + ':' + str(self.gdict[node]) + '\\n'\n",
    "        return out\n",
    "    \n",
    "    def plot(self):\n",
    "        g_nx = nx.Graph()\n",
    "        g_nx.add_nodes_from(self.nodes())\n",
    "        g_nx.add_edges_from(self.edges())\n",
    "        nx.draw_kamada_kawai(g_nx, node_size=100)\n",
    "    \n",
    "# Test\n",
    "g = Graph()\n",
    "g.add_edge(0,1)\n",
    "g.add_edge(0,2)\n",
    "g.add_edge(3,4)\n",
    "g.add_edge(4,5)\n",
    "g.add_node(7)\n",
    "print(g)\n",
    "print('Nodes:',g.nodes())\n",
    "print('Edges:',g.edges())\n",
    "g.plot()"
   ]
  },
  {
   "cell_type": "code",
   "execution_count": 9,
   "metadata": {},
   "outputs": [
    {
     "data": {
      "text/plain": [
       "<bound method Graph.nodes of <__main__.Graph object at 0x101a76bd10>>"
      ]
     },
     "execution_count": 9,
     "metadata": {},
     "output_type": "execute_result"
    }
   ],
   "source": [
    "g.nodes"
   ]
  },
  {
   "cell_type": "markdown",
   "metadata": {},
   "source": [
    "# A different way to create a random network:\n",
    "* Add nodes one by one,\n",
    "* As you add it, choose a node to connect it to, randomly\n",
    "* Once the network is ready, compare its degrees distribution to that of the \"Truly random\" network (that was described in the lecture)"
   ]
  },
  {
   "cell_type": "code",
   "execution_count": 10,
   "metadata": {},
   "outputs": [
    {
     "data": {
      "image/png": "[encoded data removed]",
      "text/plain": [
       "<Figure size 432x288 with 1 Axes>"
      ]
     },
     "metadata": {},
     "output_type": "display_data"
    }
   ],
   "source": [
    "N_NODES = 50\n",
    "N_EDGES = N_NODES\n",
    "\n",
    "g = Graph()\n",
    "for i in range(N_NODES):\n",
    "    g.add_node(i)\n",
    "edges = []\n",
    "while len(edges)<N_EDGES:\n",
    "    n1 = np.random.randint(low=0, high=N_NODES)\n",
    "    n2 = np.random.randint(low=0, high=N_NODES)\n",
    "    if n2<n1:\n",
    "        n1,n2 = n2,n1\n",
    "    \n",
    "    if (n1,n2) not in edges and n1!=n2:\n",
    "        g.add_edge(n1,n2)\n",
    "        edges.append((n1,n2))\n",
    "    \n",
    "#print(g)\n",
    "\n",
    "g.plot()"
   ]
  },
  {
   "cell_type": "code",
   "execution_count": 11,
   "metadata": {},
   "outputs": [
    {
     "name": "stdout",
     "output_type": "stream",
     "text": [
      "[2, 2, 2, 5, 2, 1, 1, 2, 3, 3, 2, 1, 0, 2, 3, 2, 0, 4, 4, 3, 1, 0, 4, 1, 3, 1, 4, 2, 0, 1, 2, 1, 2, 1, 1, 1, 1, 0, 0, 2, 2, 4, 4, 2, 5, 2, 1, 3, 4, 1]\n",
      "[ 6. 14. 15.  6.  7.  2.]\n"
     ]
    },
    {
     "data": {
      "text/plain": [
       "Text(0, 0.5, 'Frequency')"
      ]
     },
     "execution_count": 11,
     "metadata": {},
     "output_type": "execute_result"
    },
    {
     "data": {
      "image/png": "[encoded data removed]",
      "text/plain": [
       "<Figure size 432x288 with 1 Axes>"
      ]
     },
     "metadata": {
      "needs_background": "light"
     },
     "output_type": "display_data"
    }
   ],
   "source": [
    "degrees = []\n",
    "for node,links in g.gdict.items():\n",
    "    degrees.append(len(links))\n",
    "\n",
    "print(degrees)\n",
    "hist = np.zeros(max(degrees)+1)\n",
    "for degree in degrees:\n",
    "    hist[degree] += 1\n",
    "print(hist)\n",
    "\n",
    "plt.plot(hist,'.-');\n",
    "plt.xlabel('Degrees')\n",
    "plt.ylabel('Frequency')"
   ]
  },
  {
   "cell_type": "markdown",
   "metadata": {},
   "source": [
    "# Follow-Up Homework\n",
    "* Add nodes one by one \n",
    "* As you add it, choose a node to connect it to randomly \n",
    "* Once the network is read, compare its degree distribution to that of the truly random network that was described in the lecture"
   ]
  },
  {
   "cell_type": "code",
   "execution_count": 12,
   "metadata": {},
   "outputs": [
    {
     "name": "stdout",
     "output_type": "stream",
     "text": [
      "[2, 2, 2, 5, 2, 1, 1, 2, 3, 3, 2, 1, 0, 2, 3, 2, 0, 4, 4, 3, 1, 0, 4, 1, 3, 1, 4, 2, 0, 1, 2, 1, 2, 1, 1, 1, 1, 0, 0, 2, 2, 4, 4, 2, 5, 2, 1, 3, 4, 1, 0, 0, 0, 0, 0, 0, 0, 0, 0, 0, 0, 0, 0, 0, 0, 0, 0, 0, 0, 0, 0, 0, 0, 0, 0, 0, 0, 0, 0, 0, 0, 0, 0, 0, 0, 0, 0, 0, 0, 0, 0, 0, 0, 0, 0, 0, 0, 0, 0, 0]\n",
      "[56. 14. 15.  6.  7.  2.]\n"
     ]
    },
    {
     "data": {
      "text/plain": [
       "Text(0, 0.5, 'Frequency')"
      ]
     },
     "execution_count": 12,
     "metadata": {},
     "output_type": "execute_result"
    },
    {
     "data": {
      "image/png": "[encoded data removed]",
      "text/plain": [
       "<Figure size 432x288 with 1 Axes>"
      ]
     },
     "metadata": {
      "needs_background": "light"
     },
     "output_type": "display_data"
    }
   ],
   "source": [
    "ALL_NODES = 100\n",
    "ALL_EDGES = ALL_NODES\n",
    "\n",
    "for i in range (0, ALL_NODES): #For every node from 0 to M:\n",
    "    g.add_node(i)              #Add this node to the graph              \n",
    "    if i!=i:                   #Pick node 2 out of all nodes, except itself\n",
    "        g.add_edge(ALL_NODES)  #Connect node 1 to other node \n",
    "\n",
    "    \n",
    "#HISTOGRAM CODE FROM CLASS\n",
    "degrees = []\n",
    "for node,links in g.gdict.items():\n",
    "    degrees.append(len(links))\n",
    "\n",
    "print(degrees)\n",
    "hist = np.zeros(max(degrees)+1)\n",
    "for degree in degrees:\n",
    "    hist[degree] += 1\n",
    "print(hist)\n",
    "\n",
    "plt.plot(hist,'.-');\n",
    "plt.xlabel('Degrees')\n",
    "plt.ylabel('Frequency')"
   ]
  },
  {
   "cell_type": "code",
   "execution_count": 13,
   "metadata": {},
   "outputs": [
    {
     "name": "stdout",
     "output_type": "stream",
     "text": [
      "99\n"
     ]
    }
   ],
   "source": [
    "print (i) #This seems to be working for creating nodes, the trouble I'm having is identifying the second node\n",
    "          #and starting to create edges "
   ]
  },
  {
   "cell_type": "code",
   "execution_count": 15,
   "metadata": {},
   "outputs": [
    {
     "name": "stdout",
     "output_type": "stream",
     "text": [
      "[2, 2, 2, 5, 2, 1, 1, 2, 3, 3, 2, 1, 0, 2, 3, 2, 0, 4, 4, 3, 1, 0, 4, 1, 3, 1, 4, 2, 0, 1, 2, 1, 2, 1, 1, 1, 1, 0, 0, 2, 2, 4, 4, 2, 5, 2, 1, 3, 4, 1, 0, 0, 0, 0, 0, 0, 0, 0, 0, 0, 0, 0, 0, 0, 0, 0, 0, 0, 0, 0, 0, 0, 0, 0, 0, 0, 0, 0, 0, 0, 0, 0, 0, 0, 0, 0, 0, 0, 0, 0, 0, 0, 0, 0, 0, 0, 0, 0, 0, 0, 1]\n",
      "[56. 15. 15.  6.  7.  2.]\n"
     ]
    },
    {
     "data": {
      "text/plain": [
       "Text(0, 0.5, 'Frequency')"
      ]
     },
     "execution_count": 15,
     "metadata": {},
     "output_type": "execute_result"
    },
    {
     "data": {
      "image/png": "[encoded data removed]",
      "text/plain": [
       "<Figure size 432x288 with 1 Axes>"
      ]
     },
     "metadata": {
      "needs_background": "light"
     },
     "output_type": "display_data"
    }
   ],
   "source": [
    "ALL_NODES = 100\n",
    "ALL_EDGES = ALL_NODES\n",
    "\n",
    "for i in range (0, ALL_NODES): #For every node from 0 to M:\n",
    "    g.add_node(i)              #Add this node to the graph              \n",
    "    for i2 in range (0, ALL_NODES): #Pick node 2 out of all nodes\n",
    "        g.add_node(i2)\n",
    "        if i!=i2:                   #Except itself? Not sure if this part is correct, it seems like I am\n",
    "                                    #saying that the two nodes are not the same?\n",
    "            g.add_edge(ALL_NODES,ALL_NODES) #Connect a node to another node\n",
    "\n",
    "    \n",
    "#HISTOGRAM CODE FROM CLASS\n",
    "degrees = []\n",
    "for node,links in g.gdict.items():\n",
    "    degrees.append(len(links))\n",
    "\n",
    "print(degrees)\n",
    "hist = np.zeros(max(degrees)+1)\n",
    "for degree in degrees:\n",
    "    hist[degree] += 1\n",
    "print(hist)\n",
    "\n",
    "plt.plot(hist,'.-');\n",
    "plt.xlabel('Degrees')\n",
    "plt.ylabel('Frequency')"
   ]
  },
  {
   "cell_type": "markdown",
   "metadata": {},
   "source": [
    "# Homework \n",
    "\n",
    "There might something wrong here. While the histogram works, I am not sure that the numbers are reasonable and what we are trying to find. I think that the first two lines of the code are correct, where I define a range and add a node. The part were I am struggling is picking node 2, and then connecting them. I am not sure I am doing that correctly. It seems that this line : if i!=i2, is incorrect, yet it was the only way I could get the other numbers to be reasonable. I am also not sure why my version 1 of the homework attempt and version 2 of the homework attempt create the same numbers... that seems a little weird to me. \n",
    "\n",
    "While all this may be, the histogram I do get is very different from the other. The other histogram created in class appears to be bimodal in my program, while the histogram that I created is not and seems to be slightly skewed to the left. I am not sure why this is, or if it should appear to be the same as the other one. \n"
   ]
  }
 ],
 "metadata": {
  "kernelspec": {
   "display_name": "Python 3",
   "language": "python",
   "name": "python3"
  },
  "language_info": {
   "codemirror_mode": {
    "name": "ipython",
    "version": 3
   },
   "file_extension": ".py",
   "mimetype": "text/x-python",
   "name": "python",
   "nbconvert_exporter": "python",
   "pygments_lexer": "ipython3",
   "version": "3.7.4"
  }
 },
 "nbformat": 4,
 "nbformat_minor": 2
}
