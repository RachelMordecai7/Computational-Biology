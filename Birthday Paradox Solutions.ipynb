{
 "cells": [
  {
   "cell_type": "markdown",
   "metadata": {},
   "source": [
    "# Solution to Birthday Paradox"
   ]
  },
  {
   "cell_type": "code",
   "execution_count": 10,
   "metadata": {},
   "outputs": [],
   "source": [
    "import numpy as np\n",
    "import matplotlib.pyplot as plt"
   ]
  },
  {
   "cell_type": "markdown",
   "metadata": {},
   "source": [
    "The Logic:\n",
    "\n",
    "* People are showing one by one (we pretend they are showing up one by one as it makes thinking easier) \n",
    "* Once Nth person comes into the room, there are n-1 people already there \n",
    "* Let's calculate probabilty -- P(that there is no overlap in birthdays) Each person claims a day of the year \n",
    "* With n-1 people, it means n-1 days taken. SO (n-1)/365 share of the year is taken\n",
    "* The P of a new perseon not falling into the same \"taken\" part of the year is therefore 1-(n-1)/365\n",
    "* SO, we have enough to calculate it. Each new (Nth) person maintains the status quo of no overlap in birthdays with 1-(n-1)/365 probabilty. Originally, for n=1, P(no overlap) = 1"
   ]
  },
  {
   "cell_type": "code",
   "execution_count": 23,
   "metadata": {},
   "outputs": [
    {
     "data": {
      "text/plain": [
       "Text(0, 0.5, 'P of no shared Birthday')"
      ]
     },
     "execution_count": 23,
     "metadata": {},
     "output_type": "execute_result"
    },
    {
     "data": {
      "image/png": "[encoded data removed]",
      "text/plain": [
       "<Figure size 432x288 with 1 Axes>"
      ]
     },
     "metadata": {
      "needs_background": "light"
     },
     "output_type": "display_data"
    }
   ],
   "source": [
    "maxn = 365 #Highest number of people we will consider \n",
    "p = np.zeros(maxn) #Future answer, p(n). We create an array and fill it with zeros\n",
    "p[0] = 1 #If no people \n",
    "p[1] = 1 #If one person --> Also no overlap \n",
    "\n",
    "for i in range (2,maxn):\n",
    "    p[i] = p[i-1]*(1-(i-1)/365)\n",
    "\n",
    "#The original question was about P(overlap), not P(no overlap)\n",
    "plt.plot(1-p)\n",
    "plt.xlabel('N peopole in the group')\n",
    "plt.ylabel('P of no shared Birthday')\n",
    "\n"
   ]
  }
 ],
 "metadata": {
  "kernelspec": {
   "display_name": "Python 3",
   "language": "python",
   "name": "python3"
  },
  "language_info": {
   "codemirror_mode": {
    "name": "ipython",
    "version": 3
   },
   "file_extension": ".py",
   "mimetype": "text/x-python",
   "name": "python",
   "nbconvert_exporter": "python",
   "pygments_lexer": "ipython3",
   "version": "3.7.4"
  }
 },
 "nbformat": 4,
 "nbformat_minor": 2
}
