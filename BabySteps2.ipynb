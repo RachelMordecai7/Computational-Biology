{
 "cells": [
  {
   "cell_type": "code",
   "execution_count": null,
   "metadata": {},
   "outputs": [],
   "source": [
    "#Class 2 "
   ]
  },
  {
   "cell_type": "code",
   "execution_count": 38,
   "metadata": {},
   "outputs": [
    {
     "name": "stdout",
     "output_type": "stream",
     "text": [
      "2\n",
      "here is a number\n",
      "I have a lovely dog named Spot\n",
      "I have a lovely dog named Fido\n",
      "I have a lovely dog named Reks\n"
     ]
    }
   ],
   "source": [
    "#Functions! \n",
    "\n",
    "#There are functions that just do things but don't produce an output\n",
    "#Built-in function:\n",
    "print(2)\n",
    "print(\"here is a number\")\n",
    "\n",
    "#Sad life of a person who wrote same code many times\n",
    "\n",
    "print(\"I have a lovely dog named Spot\")\n",
    "print(\"I have a lovely dog named Fido\")\n",
    "print(\"I have a lovely dog named Reks\")\n",
    "\n",
    "#Poor person, had to write same thing again and again"
   ]
  },
  {
   "cell_type": "code",
   "execution_count": 22,
   "metadata": {},
   "outputs": [
    {
     "name": "stdout",
     "output_type": "stream",
     "text": [
      "Glory to all living things!\n",
      "I have a lovely dog named Teddy\n"
     ]
    }
   ],
   "source": [
    "def express_love(name=None): #Default value of None, so no error if called without arguments\n",
    "    \"\"\"Expresses love to all creation or a specific dog.\"\"\"\n",
    "    #This thing above is a docstring and it is good form to provide functions with them. \n",
    "    if name is None:         #Special behavior if no argument \n",
    "        print(\"Glory to all living things!\")\n",
    "    else:\n",
    "        print(\"I have a lovely dog named\",name)\n",
    "\n",
    "express_love()    \n",
    "express_love(\"Teddy\")"
   ]
  },
  {
   "cell_type": "code",
   "execution_count": 3,
   "metadata": {},
   "outputs": [
    {
     "name": "stdout",
     "output_type": "stream",
     "text": [
      "2\n",
      "here is a number\n",
      "I have a lovely dog named Spot\n",
      "I have a lovely dog named Fido\n",
      "I have a lovely dog named Reks\n"
     ]
    }
   ],
   "source": [
    "#Functions! \n",
    "\n",
    "#There are functions that just do things but don't produce an output\n",
    "#Built-in function:\n",
    "print(2)\n",
    "print(\"here is a number\")\n",
    "\n",
    "#Sad life of a person who wrote same code many times\n",
    "\n",
    "print(\"I have a lovely dog named Spot\")\n",
    "print(\"I have a lovely dog named Fido\")\n",
    "print(\"I have a lovely dog named Reks\")\n",
    "\n",
    "#Poor person, had to write same thing again and again "
   ]
  },
  {
   "cell_type": "code",
   "execution_count": 24,
   "metadata": {},
   "outputs": [
    {
     "name": "stdout",
     "output_type": "stream",
     "text": [
      "['Spot', 'Fido', 'Reks', 'Teddy']\n",
      "The loop starts now\n",
      "I have a lovely dog named Spot\n",
      "I have a lovely dog named Fido\n",
      "I have a lovely dog named Reks\n",
      "I have a lovely dog named Teddy\n"
     ]
    }
   ],
   "source": [
    "#Let's glorify several dogs in one go\n",
    "\n",
    "list_of_names=['Spot','Fido','Reks','Teddy']\n",
    "print(list_of_names)\n",
    "\n",
    "print(\"The loop starts now\")\n",
    "for name in list_of_names: #For here makes your \"running variable\" (NAME) take values from the list (list_of_names) one by one\n",
    "    express_love(name)"
   ]
  },
  {
   "cell_type": "code",
   "execution_count": 5,
   "metadata": {},
   "outputs": [
    {
     "data": {
      "text/plain": [
       "<function __main__.express_love(name)>"
      ]
     },
     "execution_count": 5,
     "metadata": {},
     "output_type": "execute_result"
    }
   ],
   "source": [
    "express_love #If you call a function name without (), instead of running the function you get the function itself"
   ]
  },
  {
   "cell_type": "code",
   "execution_count": 7,
   "metadata": {},
   "outputs": [
    {
     "ename": "NameError",
     "evalue": "name 'express_hatred' is not defined",
     "output_type": "error",
     "traceback": [
      "\u001b[0;31m---------------------------------------------------------------------------\u001b[0m",
      "\u001b[0;31mNameError\u001b[0m                                 Traceback (most recent call last)",
      "\u001b[0;32m<ipython-input-7-4ab556ed51d7>\u001b[0m in \u001b[0;36m<module>\u001b[0;34m\u001b[0m\n\u001b[0;32m----> 1\u001b[0;31m \u001b[0mexpress_hatred\u001b[0m\u001b[0;34m\u001b[0m\u001b[0;34m\u001b[0m\u001b[0m\n\u001b[0m",
      "\u001b[0;31mNameError\u001b[0m: name 'express_hatred' is not defined"
     ]
    }
   ],
   "source": [
    "express_hatred #This one doesn't exist \n",
    "#Error message tries to tell ouwhere the error happened (what raw)\n",
    "#And it tries to name the error (very last raw of error message)"
   ]
  },
  {
   "cell_type": "code",
   "execution_count": null,
   "metadata": {},
   "outputs": [],
   "source": [
    "#NEW THING"
   ]
  },
  {
   "cell_type": "code",
   "execution_count": 32,
   "metadata": {},
   "outputs": [
    {
     "name": "stdout",
     "output_type": "stream",
     "text": [
      "4\n",
      "14\n",
      "5\n",
      "14\n",
      "5\n"
     ]
    }
   ],
   "source": [
    "#Functions that do something and give it back to you \n",
    "\n",
    "#Built-in function\n",
    "print(len(list_of_names)) #Len takes something, returns a length of it\n",
    "\n",
    "#Image somebody has to calculate X**2+5 again and again\n",
    "print(3**2+5)\n",
    "print(0**2+5)\n",
    "\n",
    "def my_calculation(x): #Strategic choice of not having a default value, we want it to protest \n",
    "    \"\"\"Calculates this very important formula on which our lives hinge\"\"\"\n",
    "    return x**2+5\n",
    "\n",
    "print(my_calculation(3))\n",
    "print(my_calculation(0))    "
   ]
  },
  {
   "cell_type": "code",
   "execution_count": 33,
   "metadata": {},
   "outputs": [
    {
     "ename": "TypeError",
     "evalue": "my_calculation() takes 1 positional argument but 2 were given",
     "output_type": "error",
     "traceback": [
      "\u001b[0;31m---------------------------------------------------------------------------\u001b[0m",
      "\u001b[0;31mTypeError\u001b[0m                                 Traceback (most recent call last)",
      "\u001b[0;32m<ipython-input-33-dfc364c1c93d>\u001b[0m in \u001b[0;36m<module>\u001b[0;34m\u001b[0m\n\u001b[0;32m----> 1\u001b[0;31m \u001b[0mprint\u001b[0m\u001b[0;34m(\u001b[0m\u001b[0mmy_calculation\u001b[0m\u001b[0;34m(\u001b[0m\u001b[0;36m3\u001b[0m\u001b[0;34m,\u001b[0m\u001b[0;36m0\u001b[0m\u001b[0;34m)\u001b[0m\u001b[0;34m)\u001b[0m\u001b[0;34m\u001b[0m\u001b[0;34m\u001b[0m\u001b[0m\n\u001b[0m",
      "\u001b[0;31mTypeError\u001b[0m: my_calculation() takes 1 positional argument but 2 were given"
     ]
    }
   ],
   "source": [
    "print(my_calculation(3,0)) #This doesn't work because it cannot accept 2 arguments\n",
    "#Also an error because it cannot work with lists"
   ]
  },
  {
   "cell_type": "markdown",
   "metadata": {},
   "source": [
    "# Markdown\n",
    "\n",
    "Markdown is cool! Here's what happens if you write! You get text! \n",
    "If you start a new paragraph, you need to skip a line \n",
    "\n",
    "* To make bullets you use an * and a space \n",
    "\n",
    "To make a link, you [write the words in a square brackers followed by a link in round parentheses](https://google.com)\n",
    "\n",
    "\n",
    "## Second Level Title \n",
    "\n",
    "### Third Level Title \n",
    "\n",
    "Two fancy unnecessary things. \n",
    "1. If you want to make your text about coding look so coding like, you can put some key words in reverse quotation marks. It will look like that: `print(4)`. Looks fancy! `5+5=10`. \n",
    "\n",
    "2. Another fancy thing is math! Math thingys are coded in little snippets lf LaTeX, and go between dollar signs.\n",
    "$5+5=10$. Fancy math: $\\sum_(i=0)^\\inf sqrt(1/(n+1))$ \n",
    "\n",
    "\n"
   ]
  }
 ],
 "metadata": {
  "kernelspec": {
   "display_name": "Python 3",
   "language": "python",
   "name": "python3"
  },
  "language_info": {
   "codemirror_mode": {
    "name": "ipython",
    "version": 3
   },
   "file_extension": ".py",
   "mimetype": "text/x-python",
   "name": "python",
   "nbconvert_exporter": "python",
   "pygments_lexer": "ipython3",
   "version": "3.7.4"
  }
 },
 "nbformat": 4,
 "nbformat_minor": 2
}
