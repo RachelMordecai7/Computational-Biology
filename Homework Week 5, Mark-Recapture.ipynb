{
 "cells": [
  {
   "cell_type": "code",
   "execution_count": 1,
   "metadata": {},
   "outputs": [],
   "source": [
    "import numpy as np \n",
    "import matplotlib.pyplot as plt \n",
    "import time"
   ]
  },
  {
   "cell_type": "code",
   "execution_count": null,
   "metadata": {},
   "outputs": [],
   "source": [
    "#MARK AND RECAPTURE WORKING MODEL TO MESS WITH\n",
    "%matplotlib notebook\n",
    "\n",
    "n_animals = 100\n",
    "n_steps = 200\n",
    "vmin = 0.01\n",
    "vmax = 0.05\n",
    "trap_size = 0.4 # All critters with x<this and y<this will be considred \"captured\"\n",
    "\n",
    "x = np.random.uniform(size=n_animals)\n",
    "y = np.random.uniform(size=n_animals)\n",
    "vx = np.random.uniform(size=n_animals, low=vmin, high=vmax)*(2*np.random.randint(size=n_animals,low=0,high=2) - 1)\n",
    "vy = np.random.uniform(size=n_animals, low=vmin, high=vmax)*(2*np.random.randint(size=n_animals,low=0,high=2) - 1)\n",
    "\n",
    "# Capture\n",
    "color = np.where(np.logical_and(x<trap_size , y<trap_size), 1, 0) # All captured are color1, all free ones are color0\n",
    "n_marked = np.sum(color)\n",
    "\n",
    "estimation = np.zeros(n_steps) # At every point in time\n",
    "                                # .. we'll remember the estimation for N an ecologist could have made \n",
    "\n",
    "# Plotting\n",
    "fig = plt.figure(figsize=(3,3))\n",
    "ax = plt.subplot(111)\n",
    "plt.xlim((0,1));\n",
    "plt.ylim((0,1));\n",
    "fig.show()\n",
    "fig.canvas.draw()\n",
    "\n",
    "for t in range(n_steps):\n",
    "    # Moving elks around\n",
    "    x += vx\n",
    "    y += vy\n",
    "    \n",
    "    vx = np.where(np.logical_or(x>1,x<0), -vx , vx)\n",
    "    vy = np.where(np.logical_or(y>1,y<0), -vy , vy)\n",
    "    \n",
    "    # Recapture\n",
    "    n_recaptured_total = np.sum(np.logical_and(x<trap_size, y<trap_size))\n",
    "    n_recaptured_marked = np.sum(np.logical_and(x<trap_size, y<trap_size)*color) # Condition1 AND cond2 AND color==1\n",
    "    estimation[t] = (n_marked+1)/(n_recaptured_marked+1)*(n_recaptured_total)-1 # Chapman estimator\n",
    "    \n",
    "    ax.clear()\n",
    "    plt.plot(x[color==0], y[color==0], 'k.',markersize=5);\n",
    "    plt.plot(x[color==1], y[color==1], 'r.',markersize=5)\n",
    "    plt.xlim((0,1));\n",
    "    plt.ylim((0,1));\n",
    "    fig.canvas.draw() # <--------------- The main command to make it move\n",
    "    #time.sleep(0.5)\n",
    "    \n",
    "plt.figure()\n",
    "plt.plot(estimation)\n",
    "plt.xlabel('Time')\n",
    "plt.ylabel('Estimate of the number of turtles')"
   ]
  },
  {
   "cell_type": "code",
   "execution_count": null,
   "metadata": {},
   "outputs": [],
   "source": []
  }
 ],
 "metadata": {
  "kernelspec": {
   "display_name": "Python 3",
   "language": "python",
   "name": "python3"
  },
  "language_info": {
   "codemirror_mode": {
    "name": "ipython",
    "version": 3
   },
   "file_extension": ".py",
   "mimetype": "text/x-python",
   "name": "python",
   "nbconvert_exporter": "python",
   "pygments_lexer": "ipython3",
   "version": "3.7.4"
  }
 },
 "nbformat": 4,
 "nbformat_minor": 2
}
