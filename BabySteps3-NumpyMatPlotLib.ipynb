{
 "cells": [
  {
   "cell_type": "markdown",
   "metadata": {},
   "source": [
    "# Numpy and Matplotlib\n",
    "\n",
    "First of all, to use libraries, we need to import them. It's usually done at the beginnng of your script. "
   ]
  },
  {
   "cell_type": "code",
   "execution_count": 4,
   "metadata": {},
   "outputs": [],
   "source": [
    "import numpy as np #You have to load this everytime you start a new script. \n",
    "import matplotlib.pyplot as plt"
   ]
  },
  {
   "cell_type": "code",
   "execution_count": 2,
   "metadata": {},
   "outputs": [
    {
     "data": {
      "text/plain": [
       "3.0"
      ]
     },
     "execution_count": 2,
     "metadata": {},
     "output_type": "execute_result"
    }
   ],
   "source": [
    "np.sqrt(9)"
   ]
  },
  {
   "cell_type": "markdown",
   "metadata": {},
   "source": [
    "Before we start, just as a vaccination of sorts, the difference between numpy and lists. "
   ]
  },
  {
   "cell_type": "code",
   "execution_count": 17,
   "metadata": {},
   "outputs": [
    {
     "name": "stdout",
     "output_type": "stream",
     "text": [
      "[1, 2, 3]\n",
      "2\n"
     ]
    },
    {
     "ename": "TypeError",
     "evalue": "can only concatenate list (not \"int\") to list",
     "output_type": "error",
     "traceback": [
      "\u001b[0;31m---------------------------------------------------------------------------\u001b[0m",
      "\u001b[0;31mTypeError\u001b[0m                                 Traceback (most recent call last)",
      "\u001b[0;32m<ipython-input-17-aec16079a0fe>\u001b[0m in \u001b[0;36m<module>\u001b[0;34m\u001b[0m\n\u001b[1;32m      7\u001b[0m \u001b[0;34m\u001b[0m\u001b[0m\n\u001b[1;32m      8\u001b[0m \u001b[0;31m#Can you add a number to a list?\u001b[0m\u001b[0;34m\u001b[0m\u001b[0;34m\u001b[0m\u001b[0;34m\u001b[0m\u001b[0m\n\u001b[0;32m----> 9\u001b[0;31m \u001b[0mprint\u001b[0m\u001b[0;34m(\u001b[0m\u001b[0ma\u001b[0m\u001b[0;34m+\u001b[0m\u001b[0;36m1\u001b[0m\u001b[0;34m)\u001b[0m \u001b[0;31m#No you cannot, returns an error\u001b[0m\u001b[0;34m\u001b[0m\u001b[0;34m\u001b[0m\u001b[0m\n\u001b[0m\u001b[1;32m     10\u001b[0m \u001b[0;34m\u001b[0m\u001b[0m\n\u001b[1;32m     11\u001b[0m \u001b[0;31m#Can you add two lists together?\u001b[0m\u001b[0;34m\u001b[0m\u001b[0;34m\u001b[0m\u001b[0;34m\u001b[0m\u001b[0m\n",
      "\u001b[0;31mTypeError\u001b[0m: can only concatenate list (not \"int\") to list"
     ]
    }
   ],
   "source": [
    "#Let's create a LIST, and add to the list \n",
    "a=[1,2,3]\n",
    "print(a)\n",
    "\n",
    "#We can access elements of a list\n",
    "print(a[1])\n",
    "\n",
    "#Can you add a number to a list? \n",
    "print(a+1) #No you cannot, returns an error\n",
    "\n",
    "#Can you add two lists together?  \n",
    "print(a+a) #Yes, you can. \n",
    "\n",
    "#As a consequence of that. you can kinda multiply lists, but it actually just repeats them. \n",
    "print(a*3)"
   ]
  },
  {
   "cell_type": "code",
   "execution_count": 25,
   "metadata": {},
   "outputs": [
    {
     "name": "stdout",
     "output_type": "stream",
     "text": [
      "[1 2 3]\n",
      "2\n",
      "[2.1 3.1 4.1]\n",
      "[ 5 10 15]\n",
      "[2 4 6]\n"
     ]
    },
    {
     "ename": "ValueError",
     "evalue": "operands could not be broadcast together with shapes (3,) (2,) ",
     "output_type": "error",
     "traceback": [
      "\u001b[0;31m---------------------------------------------------------------------------\u001b[0m",
      "\u001b[0;31mValueError\u001b[0m                                Traceback (most recent call last)",
      "\u001b[0;32m<ipython-input-25-64a7f00fd2c6>\u001b[0m in \u001b[0;36m<module>\u001b[0;34m\u001b[0m\n\u001b[1;32m     17\u001b[0m \u001b[0;34m\u001b[0m\u001b[0m\n\u001b[1;32m     18\u001b[0m \u001b[0;31m#What if the vectors are of different size?\u001b[0m\u001b[0;34m\u001b[0m\u001b[0;34m\u001b[0m\u001b[0;34m\u001b[0m\u001b[0m\n\u001b[0;32m---> 19\u001b[0;31m \u001b[0mprint\u001b[0m\u001b[0;34m(\u001b[0m\u001b[0mb\u001b[0m\u001b[0;34m+\u001b[0m\u001b[0mnp\u001b[0m\u001b[0;34m.\u001b[0m\u001b[0marray\u001b[0m\u001b[0;34m(\u001b[0m\u001b[0;34m[\u001b[0m\u001b[0;36m1\u001b[0m\u001b[0;34m,\u001b[0m\u001b[0;36m2\u001b[0m\u001b[0;34m]\u001b[0m\u001b[0;34m)\u001b[0m\u001b[0;34m)\u001b[0m\u001b[0;34m\u001b[0m\u001b[0;34m\u001b[0m\u001b[0m\n\u001b[0m",
      "\u001b[0;31mValueError\u001b[0m: operands could not be broadcast together with shapes (3,) (2,) "
     ]
    }
   ],
   "source": [
    "#For math, we will be using numpy arrays. \n",
    "\n",
    "b=np.array([1,2,3])\n",
    "print(b)\n",
    "\n",
    "#Can we access an element of it?\n",
    "print(b[1]) #Yes it worked the same as for a list. \n",
    "\n",
    "#Can we add a number to it?\n",
    "print(b+1.1) #Yes, and it adds to every element! --> Will also work for subtraction\n",
    "\n",
    "#Can we multiply by a number? --> can use for vectorized computations\n",
    "print(b*5) #It actually multiplies every element! --> Will also work with division\n",
    "\n",
    "#Can we add two arrays together? \n",
    "print(b+b) #Yes, and moreover it does it element by element\n",
    "\n",
    "#What if the vectors are of different size? \n",
    "print(b+np.array([1,2])) #This wouldn't work, as in good faith, you cannot interpret it. "
   ]
  },
  {
   "cell_type": "code",
   "execution_count": 26,
   "metadata": {},
   "outputs": [
    {
     "data": {
      "text/plain": [
       "array(['d,1'], dtype='<U3')"
      ]
     },
     "execution_count": 26,
     "metadata": {},
     "output_type": "execute_result"
    }
   ],
   "source": [
    "#You can also put strings into a numpy array, but let's park it. \n",
    "np.array(['d,1'])"
   ]
  },
  {
   "cell_type": "code",
   "execution_count": 28,
   "metadata": {},
   "outputs": [
    {
     "name": "stdout",
     "output_type": "stream",
     "text": [
      "[1 4 9]\n",
      "[1.         1.41421356 1.73205081]\n"
     ]
    }
   ],
   "source": [
    "#Most well written functions can be called on an array, and they just apply themselves to every element. \n",
    "print(b**2) #Can apply power too\n",
    "print(np.sqrt(b))"
   ]
  },
  {
   "cell_type": "code",
   "execution_count": 59,
   "metadata": {},
   "outputs": [
    {
     "data": {
      "image/png": "[encoded data removed]",
      "text/plain": [
       "<Figure size 360x360 with 1 Axes>"
      ]
     },
     "metadata": {
      "needs_background": "light"
     },
     "output_type": "display_data"
    }
   ],
   "source": [
    "x=np.arange(start=0,stop=10,step=0.2) #This creates 10 numbers from 0-9, also we use name arguements here. \n",
    "#print(x)\n",
    "plt.figure(figsize=(5,5)) #It creates a figured. (5,5) here is a tuple, a new data type. We will talk about it later.\n",
    "plt.plot(x,np.sin(x)+x/5); #Semicolon (;) represses the output for this object. Just to make it look neater.\n",
    "plt.xlabel('x-axis');\n",
    "plt.ylabel('y-axis');\n",
    "plt.plot(x,np.sqrt(x),'purple'); #Added this function to the plot. You can mess around with it and change the type and color of the lines.  "
   ]
  },
  {
   "cell_type": "markdown",
   "metadata": {},
   "source": [
    "# Birthdays Exercise"
   ]
  },
  {
   "cell_type": "code",
   "execution_count": 60,
   "metadata": {},
   "outputs": [
    {
     "data": {
      "text/plain": [
       "array([0., 0., 0., 0., 0., 0., 0., 0., 0., 0., 0., 0., 0., 0., 0., 0., 0.,\n",
       "       0., 0., 0., 0., 0., 0., 0., 0., 0., 0., 0., 0., 0., 0., 0., 0., 0.,\n",
       "       0., 0., 0., 0., 0., 0., 0., 0., 0., 0., 0., 0., 0., 0., 0., 0., 0.,\n",
       "       0., 0., 0., 0., 0., 0., 0., 0., 0., 0., 0., 0., 0., 0., 0., 0., 0.,\n",
       "       0., 0., 0., 0., 0., 0., 0., 0., 0., 0., 0., 0., 0., 0., 0., 0., 0.,\n",
       "       0., 0., 0., 0., 0., 0., 0., 0., 0., 0., 0., 0., 0., 0., 0.])"
      ]
     },
     "execution_count": 60,
     "metadata": {},
     "output_type": "execute_result"
    }
   ],
   "source": [
    "p=np.zeros(100)\n",
    "p"
   ]
  },
  {
   "cell_type": "code",
   "execution_count": 112,
   "metadata": {},
   "outputs": [
    {
     "ename": "SyntaxError",
     "evalue": "unexpected EOF while parsing (<ipython-input-112-b85d2ae05283>, line 12)",
     "output_type": "error",
     "traceback": [
      "\u001b[0;36m  File \u001b[0;32m\"<ipython-input-112-b85d2ae05283>\"\u001b[0;36m, line \u001b[0;32m12\u001b[0m\n\u001b[0;31m    # Plot the probability of having a matching birthday as a function of number of people in a group (i)\u001b[0m\n\u001b[0m                                                                                                         ^\u001b[0m\n\u001b[0;31mSyntaxError\u001b[0m\u001b[0;31m:\u001b[0m unexpected EOF while parsing\n"
     ]
    }
   ],
   "source": [
    "n = 365\n",
    "p = np.zeros(n) # Probability of NOT having a matching birthday\n",
    "p[0] = 1\n",
    "p[1] = 1 # For 1 person, prob of not having a matching birthday is 1, haha\n",
    "for i in range(2,n): # This loop will run from 2 to n-1 (the highest number will be n-1)\n",
    "    # Calculate the probability that this new person doesn't have a matchin bd\n",
    "    # Using this new value we just calculated, and a value p[i-1], calculate p[i]\n",
    "    # Even more explictly, you'll have something like p[i] = something something *p[i-1]\n",
    "\n",
    "# At this point you'll have p as a vector of n numbers, with all values calculated\n",
    "    \n",
    "# Plot the probability of having a matching birthday as a function of number of people in a group (i)"
   ]
  },
  {
   "cell_type": "code",
   "execution_count": 6,
   "metadata": {
    "scrolled": true
   },
   "outputs": [
    {
     "name": "stdout",
     "output_type": "stream",
     "text": [
      "2 - 0.0027397260273972\n",
      "3 - 0.0082041658847813\n",
      "4 - 0.0163559124665502\n",
      "5 - 0.0271355736997935\n",
      "6 - 0.0404624836491114\n",
      "7 - 0.0562357030959754\n",
      "8 - 0.0743352923516690\n",
      "9 - 0.0946238338891667\n",
      "10 - 0.1169481777110777\n",
      "11 - 0.1411413783217331\n",
      "12 - 0.1670247888380645\n",
      "13 - 0.1944102752324295\n",
      "14 - 0.2231025120049731\n",
      "15 - 0.2529013197636865\n",
      "16 - 0.2836040052528500\n",
      "17 - 0.3150076652965608\n",
      "18 - 0.3469114178717895\n",
      "19 - 0.3791185260315368\n",
      "20 - 0.4114383835805802\n",
      "21 - 0.4436883351652059\n",
      "22 - 0.4756953076625502\n",
      "23 - 0.5072972343239854\n",
      "24 - 0.5383442579145288\n",
      "25 - 0.5686997039694639\n",
      "26 - 0.5982408201359390\n",
      "27 - 0.6268592822632419\n",
      "28 - 0.6544614723423994\n",
      "29 - 0.6809685374777770\n",
      "30 - 0.7063162427192687\n",
      "31 - 0.7304546337286439\n",
      "32 - 0.7533475278503207\n",
      "33 - 0.7749718541757720\n",
      "34 - 0.7953168646201543\n",
      "35 - 0.8143832388747152\n",
      "36 - 0.8321821063798795\n",
      "37 - 0.8487340082163846\n",
      "38 - 0.8640678210821209\n",
      "39 - 0.8782196643667221\n",
      "40 - 0.8912318098179490\n",
      "41 - 0.9031516114817354\n",
      "42 - 0.9140304715618692\n",
      "43 - 0.9239228556561199\n",
      "44 - 0.9328853685514263\n",
      "45 - 0.9409758994657750\n",
      "46 - 0.9482528433672548\n",
      "47 - 0.9547744028332994\n",
      "48 - 0.9605979728794225\n",
      "49 - 0.9657796093226765\n",
      "50 - 0.9703735795779884\n",
      "51 - 0.9744319933344283\n",
      "52 - 0.9780045093342753\n",
      "53 - 0.9811381134839128\n",
      "54 - 0.9838769627588515\n",
      "55 - 0.9862622888164461\n",
      "56 - 0.9883323548852008\n",
      "57 - 0.9901224593411699\n",
      "58 - 0.9916649793892612\n",
      "59 - 0.9929894484178170\n",
      "60 - 0.9941226608653480\n",
      "61 - 0.9950887988052908\n",
      "62 - 0.9959095748953655\n",
      "63 - 0.9966043868309472\n",
      "64 - 0.9971904789669755\n",
      "65 - 0.9976831073124921\n",
      "66 - 0.9980957046404045\n",
      "67 - 0.9984400429793998\n",
      "68 - 0.9987263912544141\n",
      "69 - 0.9989636663083863\n",
      "70 - 0.9991595759651571\n",
      "71 - 0.9993207531773187\n",
      "72 - 0.9994528806414568\n",
      "73 - 0.9995608055560187\n",
      "74 - 0.9996486444448149\n",
      "75 - 0.9997198781738114\n",
      "76 - 0.9997774374531652\n",
      "77 - 0.9998237792437390\n",
      "78 - 0.9998609545813611\n",
      "79 - 0.9998906683968511\n",
      "80 - 0.9999143319493135\n",
      "81 - 0.9999331085083680\n",
      "82 - 0.9999479529215796\n",
      "83 - 0.9999596456898823\n",
      "84 - 0.9999688221494433\n",
      "85 - 0.9999759973260097\n",
      "86 - 0.9999815869898157\n",
      "87 - 0.9999859253976947\n",
      "88 - 0.9999892801659155\n",
      "89 - 0.9999918646738591\n",
      "90 - 0.9999938483561236\n",
      "91 - 0.9999953651998191\n",
      "92 - 0.9999965207253437\n",
      "93 - 0.9999973976932023\n",
      "94 - 0.9999980607467152\n",
      "95 - 0.9999985601708488\n",
      "96 - 0.9999989349209019\n",
      "97 - 0.9999992150512947\n",
      "98 - 0.9999994236541013\n",
      "99 - 0.9999995783990275\n",
      "100 - 0.9999996927510721\n",
      "101 - 0.9999997769288606\n",
      "102 - 0.9999998386553951\n",
      "103 - 0.9999998837434765\n",
      "104 - 0.9999999165501119\n",
      "105 - 0.9999999403276142\n",
      "106 - 0.9999999574936430\n",
      "107 - 0.9999999698379549\n",
      "108 - 0.9999999786799791\n",
      "109 - 0.9999999849883688\n",
      "110 - 0.9999999894712943\n",
      "111 - 0.9999999926443289\n",
      "112 - 0.9999999948812590\n",
      "113 - 0.9999999964519412\n",
      "114 - 0.9999999975503813\n",
      "115 - 0.9999999983154677\n",
      "116 - 0.9999999988462107\n",
      "117 - 0.9999999992128945\n",
      "118 - 0.9999999994651996\n",
      "119 - 0.9999999996380939\n",
      "120 - 0.9999999997560852\n",
      "121 - 0.9999999998362764\n",
      "122 - 0.9999999998905519\n",
      "123 - 0.9999999999271345\n",
      "124 - 0.9999999999516892\n",
      "125 - 0.9999999999681016\n",
      "126 - 0.9999999999790258\n",
      "127 - 0.9999999999862662\n",
      "128 - 0.9999999999910448\n",
      "129 - 0.9999999999941852\n",
      "130 - 0.9999999999962403\n",
      "131 - 0.9999999999975794\n",
      "132 - 0.9999999999984481\n",
      "133 - 0.9999999999990093\n",
      "134 - 0.9999999999993704\n",
      "135 - 0.9999999999996015\n",
      "136 - 0.9999999999997489\n",
      "137 - 0.9999999999998425\n",
      "138 - 0.9999999999999016\n",
      "139 - 0.9999999999999388\n",
      "140 - 0.9999999999999621\n",
      "141 - 0.9999999999999767\n",
      "142 - 0.9999999999999857\n",
      "143 - 0.9999999999999912\n",
      "144 - 0.9999999999999947\n",
      "145 - 0.9999999999999968\n",
      "146 - 0.9999999999999980\n",
      "147 - 0.9999999999999988\n",
      "148 - 0.9999999999999993\n",
      "149 - 0.9999999999999996\n",
      "150 - 0.9999999999999998\n",
      "151 - 0.9999999999999999\n",
      "152 - 0.9999999999999999\n",
      "153 - 1.0000000000000000\n",
      "154 - 1.0000000000000000\n",
      "155 - 1.0000000000000000\n",
      "156 - 1.0000000000000000\n",
      "157 - 1.0000000000000000\n",
      "158 - 1.0000000000000000\n",
      "159 - 1.0000000000000000\n",
      "160 - 1.0000000000000000\n",
      "161 - 1.0000000000000000\n",
      "162 - 1.0000000000000000\n",
      "163 - 1.0000000000000000\n",
      "164 - 1.0000000000000000\n",
      "165 - 1.0000000000000000\n",
      "166 - 1.0000000000000000\n",
      "167 - 1.0000000000000000\n",
      "168 - 1.0000000000000000\n",
      "169 - 1.0000000000000000\n",
      "170 - 1.0000000000000000\n",
      "171 - 1.0000000000000000\n",
      "172 - 1.0000000000000000\n",
      "173 - 1.0000000000000000\n",
      "174 - 1.0000000000000000\n",
      "175 - 1.0000000000000000\n",
      "176 - 1.0000000000000000\n",
      "177 - 1.0000000000000000\n",
      "178 - 1.0000000000000000\n",
      "179 - 1.0000000000000000\n",
      "180 - 1.0000000000000000\n",
      "181 - 1.0000000000000000\n",
      "182 - 1.0000000000000000\n",
      "183 - 1.0000000000000000\n",
      "184 - 1.0000000000000000\n",
      "185 - 1.0000000000000000\n",
      "186 - 1.0000000000000000\n",
      "187 - 1.0000000000000000\n",
      "188 - 1.0000000000000000\n",
      "189 - 1.0000000000000000\n",
      "190 - 1.0000000000000000\n",
      "191 - 1.0000000000000000\n",
      "192 - 1.0000000000000000\n",
      "193 - 1.0000000000000000\n",
      "194 - 1.0000000000000000\n",
      "195 - 1.0000000000000000\n",
      "196 - 1.0000000000000000\n",
      "197 - 1.0000000000000000\n",
      "198 - 1.0000000000000000\n",
      "199 - 1.0000000000000000\n",
      "200 - 1.0000000000000000\n",
      "201 - 1.0000000000000000\n",
      "202 - 1.0000000000000000\n",
      "203 - 1.0000000000000000\n",
      "204 - 1.0000000000000000\n",
      "205 - 1.0000000000000000\n",
      "206 - 1.0000000000000000\n",
      "207 - 1.0000000000000000\n",
      "208 - 1.0000000000000000\n",
      "209 - 1.0000000000000000\n",
      "210 - 1.0000000000000000\n",
      "211 - 1.0000000000000000\n",
      "212 - 1.0000000000000000\n",
      "213 - 1.0000000000000000\n",
      "214 - 1.0000000000000000\n",
      "215 - 1.0000000000000000\n",
      "216 - 1.0000000000000000\n",
      "217 - 1.0000000000000000\n",
      "218 - 1.0000000000000000\n",
      "219 - 1.0000000000000000\n",
      "220 - 1.0000000000000000\n",
      "221 - 1.0000000000000000\n",
      "222 - 1.0000000000000000\n",
      "223 - 1.0000000000000000\n",
      "224 - 1.0000000000000000\n",
      "225 - 1.0000000000000000\n",
      "226 - 1.0000000000000000\n",
      "227 - 1.0000000000000000\n",
      "228 - 1.0000000000000000\n",
      "229 - 1.0000000000000000\n",
      "230 - 1.0000000000000000\n",
      "231 - 1.0000000000000000\n",
      "232 - 1.0000000000000000\n",
      "233 - 1.0000000000000000\n",
      "234 - 1.0000000000000000\n",
      "235 - 1.0000000000000000\n",
      "236 - 1.0000000000000000\n",
      "237 - 1.0000000000000000\n",
      "238 - 1.0000000000000000\n",
      "239 - 1.0000000000000000\n",
      "240 - 1.0000000000000000\n",
      "241 - 1.0000000000000000\n",
      "242 - 1.0000000000000000\n",
      "243 - 1.0000000000000000\n",
      "244 - 1.0000000000000000\n",
      "245 - 1.0000000000000000\n",
      "246 - 1.0000000000000000\n",
      "247 - 1.0000000000000000\n",
      "248 - 1.0000000000000000\n",
      "249 - 1.0000000000000000\n",
      "250 - 1.0000000000000000\n",
      "251 - 1.0000000000000000\n",
      "252 - 1.0000000000000000\n",
      "253 - 1.0000000000000000\n",
      "254 - 1.0000000000000000\n",
      "255 - 1.0000000000000000\n",
      "256 - 1.0000000000000000\n",
      "257 - 1.0000000000000000\n",
      "258 - 1.0000000000000000\n",
      "259 - 1.0000000000000000\n",
      "260 - 1.0000000000000000\n",
      "261 - 1.0000000000000000\n",
      "262 - 1.0000000000000000\n",
      "263 - 1.0000000000000000\n",
      "264 - 1.0000000000000000\n",
      "265 - 1.0000000000000000\n",
      "266 - 1.0000000000000000\n",
      "267 - 1.0000000000000000\n",
      "268 - 1.0000000000000000\n",
      "269 - 1.0000000000000000\n",
      "270 - 1.0000000000000000\n",
      "271 - 1.0000000000000000\n",
      "272 - 1.0000000000000000\n",
      "273 - 1.0000000000000000\n",
      "274 - 1.0000000000000000\n",
      "275 - 1.0000000000000000\n",
      "276 - 1.0000000000000000\n",
      "277 - 1.0000000000000000\n",
      "278 - 1.0000000000000000\n",
      "279 - 1.0000000000000000\n",
      "280 - 1.0000000000000000\n",
      "281 - 1.0000000000000000\n",
      "282 - 1.0000000000000000\n",
      "283 - 1.0000000000000000\n",
      "284 - 1.0000000000000000\n",
      "285 - 1.0000000000000000\n",
      "286 - 1.0000000000000000\n",
      "287 - 1.0000000000000000\n",
      "288 - 1.0000000000000000\n",
      "289 - 1.0000000000000000\n",
      "290 - 1.0000000000000000\n",
      "291 - 1.0000000000000000\n",
      "292 - 1.0000000000000000\n",
      "293 - 1.0000000000000000\n",
      "294 - 1.0000000000000000\n",
      "295 - 1.0000000000000000\n",
      "296 - 1.0000000000000000\n",
      "297 - 1.0000000000000000\n",
      "298 - 1.0000000000000000\n",
      "299 - 1.0000000000000000\n",
      "300 - 1.0000000000000000\n",
      "301 - 1.0000000000000000\n",
      "302 - 1.0000000000000000\n",
      "303 - 1.0000000000000000\n",
      "304 - 1.0000000000000000\n",
      "305 - 1.0000000000000000\n",
      "306 - 1.0000000000000000\n",
      "307 - 1.0000000000000000\n",
      "308 - 1.0000000000000000\n",
      "309 - 1.0000000000000000\n",
      "310 - 1.0000000000000000\n",
      "311 - 1.0000000000000000\n",
      "312 - 1.0000000000000000\n",
      "313 - 1.0000000000000000\n",
      "314 - 1.0000000000000000\n",
      "315 - 1.0000000000000000\n",
      "316 - 1.0000000000000000\n",
      "317 - 1.0000000000000000\n",
      "318 - 1.0000000000000000\n",
      "319 - 1.0000000000000000\n",
      "320 - 1.0000000000000000\n",
      "321 - 1.0000000000000000\n",
      "322 - 1.0000000000000000\n",
      "323 - 1.0000000000000000\n",
      "324 - 1.0000000000000000\n",
      "325 - 1.0000000000000000\n",
      "326 - 1.0000000000000000\n",
      "327 - 1.0000000000000000\n",
      "328 - 1.0000000000000000\n",
      "329 - 1.0000000000000000\n",
      "330 - 1.0000000000000000\n",
      "331 - 1.0000000000000000\n",
      "332 - 1.0000000000000000\n",
      "333 - 1.0000000000000000\n",
      "334 - 1.0000000000000000\n",
      "335 - 1.0000000000000000\n",
      "336 - 1.0000000000000000\n",
      "337 - 1.0000000000000000\n",
      "338 - 1.0000000000000000\n",
      "339 - 1.0000000000000000\n",
      "340 - 1.0000000000000000\n",
      "341 - 1.0000000000000000\n",
      "342 - 1.0000000000000000\n",
      "343 - 1.0000000000000000\n",
      "344 - 1.0000000000000000\n",
      "345 - 1.0000000000000000\n",
      "346 - 1.0000000000000000\n",
      "347 - 1.0000000000000000\n",
      "348 - 1.0000000000000000\n",
      "349 - 1.0000000000000000\n",
      "350 - 1.0000000000000000\n",
      "351 - 1.0000000000000000\n",
      "352 - 1.0000000000000000\n",
      "353 - 1.0000000000000000\n",
      "354 - 1.0000000000000000\n",
      "355 - 1.0000000000000000\n",
      "356 - 1.0000000000000000\n",
      "357 - 1.0000000000000000\n",
      "358 - 1.0000000000000000\n",
      "359 - 1.0000000000000000\n",
      "360 - 1.0000000000000000\n",
      "361 - 1.0000000000000000\n",
      "362 - 1.0000000000000000\n",
      "363 - 1.0000000000000000\n",
      "364 - 1.0000000000000000\n",
      "365 - 1.0000000000000000\n"
     ]
    },
    {
     "ename": "NameError",
     "evalue": "name 'days' is not defined",
     "output_type": "error",
     "traceback": [
      "\u001b[0;31m---------------------------------------------------------------------------\u001b[0m",
      "\u001b[0;31mNameError\u001b[0m                                 Traceback (most recent call last)",
      "\u001b[0;32m<ipython-input-6-16128838fb8d>\u001b[0m in \u001b[0;36m<module>\u001b[0;34m\u001b[0m\n\u001b[1;32m     12\u001b[0m     \u001b[0mmain\u001b[0m\u001b[0;34m(\u001b[0m\u001b[0;34m)\u001b[0m\u001b[0;34m\u001b[0m\u001b[0;34m\u001b[0m\u001b[0m\n\u001b[1;32m     13\u001b[0m \u001b[0;34m\u001b[0m\u001b[0m\n\u001b[0;32m---> 14\u001b[0;31m \u001b[0mplt\u001b[0m\u001b[0;34m.\u001b[0m\u001b[0mplot\u001b[0m\u001b[0;34m(\u001b[0m\u001b[0;36m1\u001b[0m\u001b[0;34m,\u001b[0m\u001b[0mdays\u001b[0m\u001b[0;34m)\u001b[0m\u001b[0;34m,\u001b[0m \u001b[0;31m#Plot of probability\u001b[0m\u001b[0;34m\u001b[0m\u001b[0;34m\u001b[0m\u001b[0m\n\u001b[0m\u001b[1;32m     15\u001b[0m \u001b[0;34m\u001b[0m\u001b[0m\n",
      "\u001b[0;31mNameError\u001b[0m: name 'days' is not defined"
     ]
    }
   ],
   "source": [
    "def main():\n",
    " \n",
    "    days = 365 #Defining number of days\n",
    "    not_sharing = 1\n",
    "    for i in range(1, days):\n",
    "        probability = i / days #Calculation of probability of having same birthday, individual calculation based on # of people\n",
    "        not_sharing *= (1 - probability) #Probability of not sharing the birthday\n",
    "        result = 1 - not_sharing #Probability that 2 people will have the same people\n",
    "        print (\"{0} - {1:.16f}\".format(i+1, result)) \n",
    " \n",
    "if __name__== \"__main__\":\n",
    "    main()\n",
    "\n"
   ]
  },
  {
   "cell_type": "code",
   "execution_count": 25,
   "metadata": {},
   "outputs": [],
   "source": [
    "# This loop will run from 2 to n-1 (the highest number will be n-1)\n",
    "    # Calculate the probability that this new person doesn't have a matchin bd\n",
    "    # Using this new value we just calculated, and a value p[i-1], calculate p[i]\n",
    "    # Even more explictly, you'll have something like p[i] = something something *p[i-1]\n",
    "\n",
    "# At this point you'll have p as a vector of n numbers, with all values calculated\n",
    "    \n",
    "# Plot the probability of having a matching birthday as a function of number of people in a group (i)\n",
    "\n",
    "\n",
    "n = 365\n",
    "p = np.zeros(n) # Probability of not having a matching birthday\n",
    "p[0] = 1\n",
    "p[1] = 1 # For 1 person the probability of not having a matching birthday is 1\n",
    "for i in range(2,n): \n",
    "   p[i] = p[i-1] * (n-1)/365 #This is the formula, not working... \n",
    "    \n",
    "    \n",
    "    \n"
   ]
  },
  {
   "cell_type": "code",
   "execution_count": null,
   "metadata": {},
   "outputs": [],
   "source": []
  },
  {
   "cell_type": "code",
   "execution_count": null,
   "metadata": {},
   "outputs": [],
   "source": []
  }
 ],
 "metadata": {
  "kernelspec": {
   "display_name": "Python 3",
   "language": "python",
   "name": "python3"
  },
  "language_info": {
   "codemirror_mode": {
    "name": "ipython",
    "version": 3
   },
   "file_extension": ".py",
   "mimetype": "text/x-python",
   "name": "python",
   "nbconvert_exporter": "python",
   "pygments_lexer": "ipython3",
   "version": "3.7.4"
  }
 },
 "nbformat": 4,
 "nbformat_minor": 2
}
