{
 "cells": [
  {
   "cell_type": "markdown",
   "metadata": {},
   "source": [
    "# Homework "
   ]
  },
  {
   "cell_type": "code",
   "execution_count": 1,
   "metadata": {},
   "outputs": [],
   "source": [
    "import numpy as np\n",
    "import matplotlib.pyplot as plt\n",
    "import time "
   ]
  },
  {
   "cell_type": "code",
   "execution_count": null,
   "metadata": {},
   "outputs": [],
   "source": [
    "%matplotlib notebook\n",
    "\n",
    "nanimals = 100\n",
    "nsteps = 1000\n",
    "diffusion_speed = 0.05 #Something speed-like\n",
    "\n",
    "x = np.ones(nanimals) * 0.5\n",
    "y = np.ones(nanimals) * 0.5\n",
    "\n",
    "#Figure\n",
    "fig=plt.figure(figsize=(3,3));\n",
    "\n",
    "for t in range(nsteps):\n",
    "    x+=np.random.randn(nanimals)*diffusion_speed\n",
    "    y+=np.random.randn(nanimals)*diffusion_speed\n",
    "    plt.cla()\n",
    "    plt.plot(x,y,'k.',markersize=2);\n",
    "    plt.xlim((0,1));\n",
    "    plt.ylim((0,1));\n",
    "    fig.canvas.draw() #Main command to make the graph move\n",
    "    time.sleep(0.01)\n",
    "\n",
    "x = np.maximum(x,1)\n",
    "x = np.minimum(x,0)\n",
    "y = np.maximum(y,1)\n",
    "y = np.minimum(y,0)"
   ]
  },
  {
   "cell_type": "code",
   "execution_count": null,
   "metadata": {},
   "outputs": [],
   "source": []
  },
  {
   "cell_type": "code",
   "execution_count": null,
   "metadata": {},
   "outputs": [],
   "source": []
  },
  {
   "cell_type": "code",
   "execution_count": null,
   "metadata": {},
   "outputs": [],
   "source": []
  },
  {
   "cell_type": "code",
   "execution_count": null,
   "metadata": {},
   "outputs": [],
   "source": []
  }
 ],
 "metadata": {
  "kernelspec": {
   "display_name": "Python 3",
   "language": "python",
   "name": "python3"
  },
  "language_info": {
   "codemirror_mode": {
    "name": "ipython",
    "version": 3
   },
   "file_extension": ".py",
   "mimetype": "text/x-python",
   "name": "python",
   "nbconvert_exporter": "python",
   "pygments_lexer": "ipython3",
   "version": "3.7.4"
  }
 },
 "nbformat": 4,
 "nbformat_minor": 2
}
