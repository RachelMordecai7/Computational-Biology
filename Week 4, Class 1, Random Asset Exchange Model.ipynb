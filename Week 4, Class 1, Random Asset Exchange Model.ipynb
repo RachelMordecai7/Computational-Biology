{
 "cells": [
  {
   "cell_type": "markdown",
   "metadata": {},
   "source": [
    "# Random Asset Exchange Model"
   ]
  },
  {
   "cell_type": "code",
   "execution_count": 2,
   "metadata": {},
   "outputs": [],
   "source": [
    "import numpy as np\n",
    "import matplotlib.pyplot as plt"
   ]
  },
  {
   "cell_type": "code",
   "execution_count": 61,
   "metadata": {},
   "outputs": [
    {
     "data": {
      "image/png": "[encoded data removed]",
      "text/plain": [
       "<Figure size 432x288 with 1 Axes>"
      ]
     },
     "metadata": {
      "needs_background": "light"
     },
     "output_type": "display_data"
    }
   ],
   "source": [
    "#Basic Model; remember everything\n",
    "npeople = 100\n",
    "nsteps = 10000\n",
    "coin = 0.1\n",
    "\n",
    "wealth = np.ones(npeople)\n",
    "\n",
    "for t in range(nsteps):\n",
    "    p1 = np.random.randint(low=0, high=n_people)\n",
    "    p2 = np.random.randint(low=0, high=n_people)\n",
    "    if wealth[p1]>0:\n",
    "        wealth[p1] -= coin\n",
    "        wealth[p2] += coin\n",
    "\n",
    "plt.hist(wealth); \n",
    "\n"
   ]
  },
  {
   "cell_type": "code",
   "execution_count": 5,
   "metadata": {},
   "outputs": [
    {
     "name": "stdout",
     "output_type": "stream",
     "text": [
      "This should be 0: 0.0\n",
      "This should be 1: 1.0\n",
      "This should be something else: 0.6078431372549019\n"
     ]
    }
   ],
   "source": [
    "#Define function to calculate Gini coefficient \n",
    "\n",
    "def gini(x):\n",
    "    y = np.sort(x) #In order to sort by wealth\n",
    "    upper_sum = 0\n",
    "    n = len(x)\n",
    "    for i in range(n):\n",
    "        upper_sum += (i+1)*y[i]\n",
    "    return 1-2/(n-1)*( n - upper_sum/sum(y) )\n",
    "        \n",
    "\n",
    "#This is a test  \n",
    "print('This should be 0:',gini([1,1,1,1]))\n",
    "print('This should be 1:',gini([1,0,0,0]))\n",
    "print('This should be something else:',gini([10,5,1,1]))\n",
    "    "
   ]
  },
  {
   "cell_type": "code",
   "execution_count": 76,
   "metadata": {},
   "outputs": [
    {
     "data": {
      "image/png": "[encoded data removed]",
      "text/plain": [
       "<Figure size 432x288 with 2 Axes>"
      ]
     },
     "metadata": {
      "needs_background": "light"
     },
     "output_type": "display_data"
    }
   ],
   "source": [
    "#Model with history and compound interest \n",
    "npeople = 100\n",
    "nsteps = 1000\n",
    "trades_per_step = 10\n",
    "coin = 0.1\n",
    "interest = 0.001\n",
    "\n",
    "\n",
    "wealth = np.ones(shape=(nsteps,npeople))\n",
    "gini_history = np.zeros(nsteps)\n",
    "\n",
    "for t in range(1,nsteps): \n",
    "    wealth[t,:] = wealth [t-1,:] *(1+interest)\n",
    "    for i in range(trades_per_step):\n",
    "        p1 = np.random.randint(low=0, high=n_people)\n",
    "        p2 = np.random.randint(low=0, high=n_people)\n",
    "    if wealth[t,p1]>0:\n",
    "        wealth[t,p1]=wealth[t-1,p1]-coin\n",
    "        wealth[t,p2]=wealth[t-1,p2]+coin\n",
    "\n",
    "plt.subplot(1,2,1)\n",
    "plt.hist(wealth [-1,:], bins=10);\n",
    "plt.xlabel('wealth');\n",
    "plt.ylabel('number of people');\n",
    "\n",
    "plt.subplot(1,2,2)\n",
    "poor_one = np.argmin(wealth[-1,:])\n",
    "rich_one = np.argmax(wealth[-1,:])\n",
    "plt.plot(wealth[:,poor_one]);\n",
    "plt.plot(wealth[:,rich_one]);\n",
    "plt.xlabel('time');\n",
    "plt.ylabel('wealth');\n",
    "\n"
   ]
  },
  {
   "cell_type": "raw",
   "metadata": {},
   "source": [
    "#Adding in inequality with compound interest in history \n",
    "\n",
    "nsteps = 1000\n",
    "trades_per_step = 10\n",
    "npeople = 100\n",
    "coin = 0.1\n",
    "interest = 0.001\n",
    "\n",
    "wealth = np.ones(shape=(nsteps,npeople))\n",
    "gini_history = np.zeros(nsteps)\n",
    "\n",
    "for t in range(1,nsteps):                             # We now start at t=1, to be able to refer to t-1 (prev step)\n",
    "    wealth[t,:] = wealth[t-1,:]*(1+interest)          # By default, wealth at t remains the same as it was at t-1\n",
    "    for i in range(trades_per_step):                  # Let's make more than 2 ppl trade at each time point.\n",
    "        p1 = np.random.randint(low=0, high=npeople)   # (It doesn't change the end solution, just makes plots prettier.\n",
    "        p2 = np.random.randint(low=0, high=npeople)   # It's equivalent to only remembering eath Kth step.)\n",
    "        if wealth[t,p1]>0:\n",
    "            wealth[t,p1] -= coin        # Still update in place\n",
    "            wealth[t,p2] += coin\n",
    "    gini_history[t] = gini(wealth[t,:]) # Calculate gini index for the current distribution of wealth\n",
    "\n",
    "# Figures\n",
    "plt.figure(figsize=(15,5))\n",
    "plt.subplot(1,3,1)\n",
    "plt.hist(wealth[-1,:],bins=10);\n",
    "plt.xlabel('Wealth');\n",
    "plt.ylabel('Count');\n",
    "\n",
    "plt.subplot(1,3,2);\n",
    "poor_one = np.argmin(wealth[-1,:])\n",
    "rich_one = np.argmax(wealth[-1,:])\n",
    "plt.plot(wealth[:,poor_one]);\n",
    "plt.plot(wealth[:,rich_one]);\n",
    "plt.xlabel('Time');\n",
    "plt.ylabel('Wealth');\n",
    "\n",
    "plt.subplot(1,3,3)\n",
    "plt.plot(gini_history);\n",
    "plt.xlabel('Time');\n",
    "plt.ylabel('Gini index');"
   ]
  },
  {
   "cell_type": "markdown",
   "metadata": {},
   "source": [
    "Below, we'll need to remember the values of tax rate we try. As we'll need them for the x-axis. How do we do that?\n",
    "\n",
    "3 options:\n",
    "* Pre-create an array of all possible values, and iterate through them \n",
    "* Pre-allocate some space and fill it with zeros or something -- store values there as you go \n",
    "* Create an empty array by doing np.array([]), then append values to it using np.append(a,new_value)"
   ]
  },
  {
   "cell_type": "markdown",
   "metadata": {},
   "source": [
    "# How to organize loops"
   ]
  },
  {
   "cell_type": "code",
   "execution_count": 46,
   "metadata": {},
   "outputs": [],
   "source": [
    "a= np.array([]) #Empty"
   ]
  },
  {
   "cell_type": "code",
   "execution_count": 50,
   "metadata": {},
   "outputs": [
    {
     "ename": "IndexError",
     "evalue": "index -9223372036854775808 is out of bounds for axis 0 with size 11",
     "output_type": "error",
     "traceback": [
      "\u001b[0;31m---------------------------------------------------------------------------\u001b[0m",
      "\u001b[0;31mIndexError\u001b[0m                                Traceback (most recent call last)",
      "\u001b[0;32m<ipython-input-50-1f83da3ca0f0>\u001b[0m in \u001b[0;36m<module>\u001b[0;34m\u001b[0m\n\u001b[1;32m     37\u001b[0m \u001b[0mplt\u001b[0m\u001b[0;34m.\u001b[0m\u001b[0mfigure\u001b[0m\u001b[0;34m(\u001b[0m\u001b[0mfigsize\u001b[0m\u001b[0;34m=\u001b[0m\u001b[0;34m(\u001b[0m\u001b[0;36m15\u001b[0m\u001b[0;34m,\u001b[0m\u001b[0;36m5\u001b[0m\u001b[0;34m)\u001b[0m\u001b[0;34m)\u001b[0m\u001b[0;34m\u001b[0m\u001b[0;34m\u001b[0m\u001b[0m\n\u001b[1;32m     38\u001b[0m \u001b[0mplt\u001b[0m\u001b[0;34m.\u001b[0m\u001b[0msubplot\u001b[0m\u001b[0;34m(\u001b[0m\u001b[0;36m1\u001b[0m\u001b[0;34m,\u001b[0m\u001b[0;36m3\u001b[0m\u001b[0;34m,\u001b[0m\u001b[0;36m1\u001b[0m\u001b[0;34m)\u001b[0m\u001b[0;34m\u001b[0m\u001b[0;34m\u001b[0m\u001b[0m\n\u001b[0;32m---> 39\u001b[0;31m \u001b[0mplt\u001b[0m\u001b[0;34m.\u001b[0m\u001b[0mhist\u001b[0m\u001b[0;34m(\u001b[0m\u001b[0mwealth\u001b[0m\u001b[0;34m[\u001b[0m\u001b[0;34m-\u001b[0m\u001b[0;36m1\u001b[0m\u001b[0;34m,\u001b[0m\u001b[0;34m:\u001b[0m\u001b[0;34m]\u001b[0m\u001b[0;34m,\u001b[0m\u001b[0mbins\u001b[0m\u001b[0;34m=\u001b[0m\u001b[0;36m10\u001b[0m\u001b[0;34m)\u001b[0m\u001b[0;34m;\u001b[0m\u001b[0;34m\u001b[0m\u001b[0;34m\u001b[0m\u001b[0m\n\u001b[0m\u001b[1;32m     40\u001b[0m \u001b[0mplt\u001b[0m\u001b[0;34m.\u001b[0m\u001b[0mxlabel\u001b[0m\u001b[0;34m(\u001b[0m\u001b[0;34m'Wealth'\u001b[0m\u001b[0;34m)\u001b[0m\u001b[0;34m;\u001b[0m\u001b[0;34m\u001b[0m\u001b[0;34m\u001b[0m\u001b[0m\n\u001b[1;32m     41\u001b[0m \u001b[0mplt\u001b[0m\u001b[0;34m.\u001b[0m\u001b[0mylabel\u001b[0m\u001b[0;34m(\u001b[0m\u001b[0;34m'Count'\u001b[0m\u001b[0;34m)\u001b[0m\u001b[0;34m;\u001b[0m\u001b[0;34m\u001b[0m\u001b[0;34m\u001b[0m\u001b[0m\n",
      "\u001b[0;32m~/opt/anaconda3/lib/python3.7/site-packages/matplotlib/pyplot.py\u001b[0m in \u001b[0;36mhist\u001b[0;34m(x, bins, range, density, weights, cumulative, bottom, histtype, align, orientation, rwidth, log, color, label, stacked, normed, data, **kwargs)\u001b[0m\n\u001b[1;32m   2640\u001b[0m         \u001b[0malign\u001b[0m\u001b[0;34m=\u001b[0m\u001b[0malign\u001b[0m\u001b[0;34m,\u001b[0m \u001b[0morientation\u001b[0m\u001b[0;34m=\u001b[0m\u001b[0morientation\u001b[0m\u001b[0;34m,\u001b[0m \u001b[0mrwidth\u001b[0m\u001b[0;34m=\u001b[0m\u001b[0mrwidth\u001b[0m\u001b[0;34m,\u001b[0m \u001b[0mlog\u001b[0m\u001b[0;34m=\u001b[0m\u001b[0mlog\u001b[0m\u001b[0;34m,\u001b[0m\u001b[0;34m\u001b[0m\u001b[0;34m\u001b[0m\u001b[0m\n\u001b[1;32m   2641\u001b[0m         \u001b[0mcolor\u001b[0m\u001b[0;34m=\u001b[0m\u001b[0mcolor\u001b[0m\u001b[0;34m,\u001b[0m \u001b[0mlabel\u001b[0m\u001b[0;34m=\u001b[0m\u001b[0mlabel\u001b[0m\u001b[0;34m,\u001b[0m \u001b[0mstacked\u001b[0m\u001b[0;34m=\u001b[0m\u001b[0mstacked\u001b[0m\u001b[0;34m,\u001b[0m \u001b[0mnormed\u001b[0m\u001b[0;34m=\u001b[0m\u001b[0mnormed\u001b[0m\u001b[0;34m,\u001b[0m\u001b[0;34m\u001b[0m\u001b[0;34m\u001b[0m\u001b[0m\n\u001b[0;32m-> 2642\u001b[0;31m         **({\"data\": data} if data is not None else {}), **kwargs)\n\u001b[0m\u001b[1;32m   2643\u001b[0m \u001b[0;34m\u001b[0m\u001b[0m\n\u001b[1;32m   2644\u001b[0m \u001b[0;34m\u001b[0m\u001b[0m\n",
      "\u001b[0;32m~/opt/anaconda3/lib/python3.7/site-packages/matplotlib/__init__.py\u001b[0m in \u001b[0;36minner\u001b[0;34m(ax, data, *args, **kwargs)\u001b[0m\n\u001b[1;32m   1599\u001b[0m     \u001b[0;32mdef\u001b[0m \u001b[0minner\u001b[0m\u001b[0;34m(\u001b[0m\u001b[0max\u001b[0m\u001b[0;34m,\u001b[0m \u001b[0;34m*\u001b[0m\u001b[0margs\u001b[0m\u001b[0;34m,\u001b[0m \u001b[0mdata\u001b[0m\u001b[0;34m=\u001b[0m\u001b[0;32mNone\u001b[0m\u001b[0;34m,\u001b[0m \u001b[0;34m**\u001b[0m\u001b[0mkwargs\u001b[0m\u001b[0;34m)\u001b[0m\u001b[0;34m:\u001b[0m\u001b[0;34m\u001b[0m\u001b[0;34m\u001b[0m\u001b[0m\n\u001b[1;32m   1600\u001b[0m         \u001b[0;32mif\u001b[0m \u001b[0mdata\u001b[0m \u001b[0;32mis\u001b[0m \u001b[0;32mNone\u001b[0m\u001b[0;34m:\u001b[0m\u001b[0;34m\u001b[0m\u001b[0;34m\u001b[0m\u001b[0m\n\u001b[0;32m-> 1601\u001b[0;31m             \u001b[0;32mreturn\u001b[0m \u001b[0mfunc\u001b[0m\u001b[0;34m(\u001b[0m\u001b[0max\u001b[0m\u001b[0;34m,\u001b[0m \u001b[0;34m*\u001b[0m\u001b[0mmap\u001b[0m\u001b[0;34m(\u001b[0m\u001b[0msanitize_sequence\u001b[0m\u001b[0;34m,\u001b[0m \u001b[0margs\u001b[0m\u001b[0;34m)\u001b[0m\u001b[0;34m,\u001b[0m \u001b[0;34m**\u001b[0m\u001b[0mkwargs\u001b[0m\u001b[0;34m)\u001b[0m\u001b[0;34m\u001b[0m\u001b[0;34m\u001b[0m\u001b[0m\n\u001b[0m\u001b[1;32m   1602\u001b[0m \u001b[0;34m\u001b[0m\u001b[0m\n\u001b[1;32m   1603\u001b[0m         \u001b[0mbound\u001b[0m \u001b[0;34m=\u001b[0m \u001b[0mnew_sig\u001b[0m\u001b[0;34m.\u001b[0m\u001b[0mbind\u001b[0m\u001b[0;34m(\u001b[0m\u001b[0max\u001b[0m\u001b[0;34m,\u001b[0m \u001b[0;34m*\u001b[0m\u001b[0margs\u001b[0m\u001b[0;34m,\u001b[0m \u001b[0;34m**\u001b[0m\u001b[0mkwargs\u001b[0m\u001b[0;34m)\u001b[0m\u001b[0;34m\u001b[0m\u001b[0;34m\u001b[0m\u001b[0m\n",
      "\u001b[0;32m~/opt/anaconda3/lib/python3.7/site-packages/matplotlib/axes/_axes.py\u001b[0m in \u001b[0;36mhist\u001b[0;34m(self, x, bins, range, density, weights, cumulative, bottom, histtype, align, orientation, rwidth, log, color, label, stacked, normed, **kwargs)\u001b[0m\n\u001b[1;32m   6765\u001b[0m             \u001b[0;31m# this will automatically overwrite bins,\u001b[0m\u001b[0;34m\u001b[0m\u001b[0;34m\u001b[0m\u001b[0;34m\u001b[0m\u001b[0m\n\u001b[1;32m   6766\u001b[0m             \u001b[0;31m# so that each histogram uses the same bins\u001b[0m\u001b[0;34m\u001b[0m\u001b[0;34m\u001b[0m\u001b[0;34m\u001b[0m\u001b[0m\n\u001b[0;32m-> 6767\u001b[0;31m             \u001b[0mm\u001b[0m\u001b[0;34m,\u001b[0m \u001b[0mbins\u001b[0m \u001b[0;34m=\u001b[0m \u001b[0mnp\u001b[0m\u001b[0;34m.\u001b[0m\u001b[0mhistogram\u001b[0m\u001b[0;34m(\u001b[0m\u001b[0mx\u001b[0m\u001b[0;34m[\u001b[0m\u001b[0mi\u001b[0m\u001b[0;34m]\u001b[0m\u001b[0;34m,\u001b[0m \u001b[0mbins\u001b[0m\u001b[0;34m,\u001b[0m \u001b[0mweights\u001b[0m\u001b[0;34m=\u001b[0m\u001b[0mw\u001b[0m\u001b[0;34m[\u001b[0m\u001b[0mi\u001b[0m\u001b[0;34m]\u001b[0m\u001b[0;34m,\u001b[0m \u001b[0;34m**\u001b[0m\u001b[0mhist_kwargs\u001b[0m\u001b[0;34m)\u001b[0m\u001b[0;34m\u001b[0m\u001b[0;34m\u001b[0m\u001b[0m\n\u001b[0m\u001b[1;32m   6768\u001b[0m             \u001b[0mm\u001b[0m \u001b[0;34m=\u001b[0m \u001b[0mm\u001b[0m\u001b[0;34m.\u001b[0m\u001b[0mastype\u001b[0m\u001b[0;34m(\u001b[0m\u001b[0mfloat\u001b[0m\u001b[0;34m)\u001b[0m  \u001b[0;31m# causes problems later if it's an int\u001b[0m\u001b[0;34m\u001b[0m\u001b[0;34m\u001b[0m\u001b[0m\n\u001b[1;32m   6769\u001b[0m             \u001b[0;32mif\u001b[0m \u001b[0mmlast\u001b[0m \u001b[0;32mis\u001b[0m \u001b[0;32mNone\u001b[0m\u001b[0;34m:\u001b[0m\u001b[0;34m\u001b[0m\u001b[0;34m\u001b[0m\u001b[0m\n",
      "\u001b[0;32m<__array_function__ internals>\u001b[0m in \u001b[0;36mhistogram\u001b[0;34m(*args, **kwargs)\u001b[0m\n",
      "\u001b[0;32m~/opt/anaconda3/lib/python3.7/site-packages/numpy/lib/histograms.py\u001b[0m in \u001b[0;36mhistogram\u001b[0;34m(a, bins, range, normed, weights, density)\u001b[0m\n\u001b[1;32m    847\u001b[0m             \u001b[0;31m# The index computation is not guaranteed to give exactly\u001b[0m\u001b[0;34m\u001b[0m\u001b[0;34m\u001b[0m\u001b[0;34m\u001b[0m\u001b[0m\n\u001b[1;32m    848\u001b[0m             \u001b[0;31m# consistent results within ~1 ULP of the bin edges.\u001b[0m\u001b[0;34m\u001b[0m\u001b[0;34m\u001b[0m\u001b[0;34m\u001b[0m\u001b[0m\n\u001b[0;32m--> 849\u001b[0;31m             \u001b[0mdecrement\u001b[0m \u001b[0;34m=\u001b[0m \u001b[0mtmp_a\u001b[0m \u001b[0;34m<\u001b[0m \u001b[0mbin_edges\u001b[0m\u001b[0;34m[\u001b[0m\u001b[0mindices\u001b[0m\u001b[0;34m]\u001b[0m\u001b[0;34m\u001b[0m\u001b[0;34m\u001b[0m\u001b[0m\n\u001b[0m\u001b[1;32m    850\u001b[0m             \u001b[0mindices\u001b[0m\u001b[0;34m[\u001b[0m\u001b[0mdecrement\u001b[0m\u001b[0;34m]\u001b[0m \u001b[0;34m-=\u001b[0m \u001b[0;36m1\u001b[0m\u001b[0;34m\u001b[0m\u001b[0;34m\u001b[0m\u001b[0m\n\u001b[1;32m    851\u001b[0m             \u001b[0;31m# The last bin includes the right edge. The other bins do not.\u001b[0m\u001b[0;34m\u001b[0m\u001b[0;34m\u001b[0m\u001b[0;34m\u001b[0m\u001b[0m\n",
      "\u001b[0;31mIndexError\u001b[0m: index -9223372036854775808 is out of bounds for axis 0 with size 11"
     ]
    },
    {
     "data": {
      "image/png": "[encoded data removed]",
      "text/plain": [
       "<Figure size 1080x360 with 1 Axes>"
      ]
     },
     "metadata": {
      "needs_background": "light"
     },
     "output_type": "display_data"
    }
   ],
   "source": [
    "#Adding in taxation --> Universal Basic Income\n",
    "\n",
    "nsteps = 3000\n",
    "trades_per_step = 10\n",
    "npeople = 100\n",
    "coin = 0.1\n",
    "interest = 0.000\n",
    "tax_rate = 0.001\n",
    "\n",
    "wealth = np.ones(shape=(nsteps,npeople))\n",
    "gini_history = np.zeros(nsteps)\n",
    "tax_rates = np.arange(start=0,stop=0.16,step=0.01)\n",
    "final_gini = np.zeros(shape=tax_rates.shape)\n",
    "\n",
    "\n",
    "for itax in range(len(tax_rates)):\n",
    "    tax_rate=tax_rates[itax]\n",
    "    \n",
    "    for t in range(1,nsteps):                             #We now start at t=1, to be able to refer to t-1 (prev step)\n",
    "        wealth[t,:] = wealth[t-1,:]*(1+interest)          #By default, wealth at t remains the same as it was at t-1\n",
    "\n",
    "        collect = tax_rate*np.sum(wealth[t,:])            #Collecting taxes\n",
    "        wealth[t,:] = (1-rate)*wealth[t,:]                #Reduced by the amount collected\n",
    "        wealth[t,:] += collect/npeople                    #Redistribute taxes\n",
    "\n",
    "        for i in range(trades_per_step):                  #Let's make more than 2 ppl trade at each time point.\n",
    "            p1 = np.random.randint(low=0, high=npeople)   #(It doesn't change the end solution, just makes plots prettier.\n",
    "            p2 = np.random.randint(low=0, high=npeople)   #It's equivalent to only remembering eath Kth step.)\n",
    "            if wealth[t,p1]>0:\n",
    "                wealth[t,p1] -= coin        #Still update in place\n",
    "                wealth[t,p2] += coin\n",
    "        gini_history[t] = gini(wealth[t,:]) #Calculate gini index for the current distribution of wealthy\n",
    "        \n",
    "    final_gini[itax] = gini_history[-1]  \n",
    "    \n",
    "\n",
    "#Figures\n",
    "plt.figure(figsize=(15,5))\n",
    "plt.subplot(1,3,1)\n",
    "plt.hist(wealth[-1,:],bins=10);\n",
    "plt.xlabel('Wealth');\n",
    "plt.ylabel('Count');\n",
    "\n",
    "plt.subplot(1,3,2);\n",
    "plt.axhline(1,color='grey',linewidth=1); #Horizontal line for original, successful \n",
    "poor_one = np.argmin(wealth[-1,:])\n",
    "rich_one = np.argmax(wealth[-1,:])\n",
    "plt.plot(wealth[:,poor_one]);\n",
    "plt.plot(wealth[:,rich_one]);\n",
    "# plt.hlines(1, 0, nsteps); Nope, we don't like it \n",
    "plt.xlabel('Time');\n",
    "plt.ylabel('Wealth');\n",
    "\n",
    "plt.subplot(1,3,3)\n",
    "plt.plot(gini_history);\n",
    "plt.xlabel('Time');\n",
    "plt.ylabel('Gini index');\n",
    "plt.grid(linestyle=':');\n",
    "\n",
    "#New figure\n",
    "plt.figure();\n",
    "plt.plot(tax_rates,final_gini,'k.');\n",
    "plt.xlabel('tax rate');\n",
    "plt.ylabel('final gini index');\n",
    "\n"
   ]
  }
 ],
 "metadata": {
  "kernelspec": {
   "display_name": "Python 3",
   "language": "python",
   "name": "python3"
  },
  "language_info": {
   "codemirror_mode": {
    "name": "ipython",
    "version": 3
   },
   "file_extension": ".py",
   "mimetype": "text/x-python",
   "name": "python",
   "nbconvert_exporter": "python",
   "pygments_lexer": "ipython3",
   "version": "3.7.4"
  }
 },
 "nbformat": 4,
 "nbformat_minor": 2
}
