{
 "cells": [
  {
   "cell_type": "markdown",
   "metadata": {},
   "source": [
    "# Reminders"
   ]
  },
  {
   "cell_type": "code",
   "execution_count": 1,
   "metadata": {},
   "outputs": [],
   "source": [
    "import numpy as np\n",
    "import matplotlib as plt"
   ]
  },
  {
   "cell_type": "code",
   "execution_count": 2,
   "metadata": {},
   "outputs": [
    {
     "data": {
      "text/plain": [
       "array([[0., 0., 0.],\n",
       "       [0., 0., 0.],\n",
       "       [0., 0., 0.],\n",
       "       [0., 0., 0.],\n",
       "       [0., 0., 0.]])"
      ]
     },
     "execution_count": 2,
     "metadata": {},
     "output_type": "execute_result"
    }
   ],
   "source": [
    "a = np.zeros ((5,3)) #Oh! Spaces do not matter! \n",
    "a"
   ]
  },
  {
   "cell_type": "code",
   "execution_count": 3,
   "metadata": {},
   "outputs": [
    {
     "data": {
      "text/plain": [
       "(5, 3)"
      ]
     },
     "execution_count": 3,
     "metadata": {},
     "output_type": "execute_result"
    }
   ],
   "source": [
    "a.shape"
   ]
  },
  {
   "cell_type": "code",
   "execution_count": 5,
   "metadata": {},
   "outputs": [
    {
     "data": {
      "text/plain": [
       "array([1, 2, 3])"
      ]
     },
     "execution_count": 5,
     "metadata": {},
     "output_type": "execute_result"
    }
   ],
   "source": [
    "b = np.array([1,2,3])\n",
    "b #This is a vector"
   ]
  },
  {
   "cell_type": "code",
   "execution_count": 7,
   "metadata": {},
   "outputs": [
    {
     "data": {
      "text/plain": [
       "array([[1, 2, 3],\n",
       "       [4, 5, 6]])"
      ]
     },
     "execution_count": 7,
     "metadata": {},
     "output_type": "execute_result"
    }
   ],
   "source": [
    "c = np.array([[1,2,3],[4,5,6]])\n",
    "c"
   ]
  },
  {
   "cell_type": "code",
   "execution_count": 18,
   "metadata": {},
   "outputs": [
    {
     "name": "stdout",
     "output_type": "stream",
     "text": [
      "5\n",
      "[4 5 6]\n",
      "[2 5]\n",
      "[5 6]\n",
      "(2, 3)\n",
      "[4 5 6]\n",
      "[4 5 6]\n"
     ]
    }
   ],
   "source": [
    "print(c[1,1]) #If I want the first (python first, zero-indexed) raw?\n",
    "print(c[1,:]) #First column\n",
    "print(c[:,1]) \n",
    "#What if I want the end of the first r?\n",
    "print(c[1,1:]) #This is fun, we fix the row number and use a slice for the columns -- If you happen to know it \n",
    "print(c.shape)\n",
    "print(c[c.shape[0]-1,:]) #Also gives you last row\n",
    "print(c[-1,:]) #How you actually do it"
   ]
  },
  {
   "cell_type": "code",
   "execution_count": 29,
   "metadata": {},
   "outputs": [
    {
     "name": "stdout",
     "output_type": "stream",
     "text": [
      "[[  0.   0.   0.]\n",
      " [  0. 777.   0.]\n",
      " [  0.   0.   0.]\n",
      " [  0.   1.   1.]\n",
      " [  0.   1.   1.]]\n",
      "Spiderman cast a shadow:\n",
      "[[  0.   0.   0.]\n",
      " [  0. 777.   0.]\n",
      " [  0. 111.   0.]\n",
      " [  0.   1.   1.]\n",
      " [  0.   1.   1.]]\n",
      "The new truth:\n",
      " [[  0.   0.   0.]\n",
      " [777. 777.   0.]\n",
      " [111. 111.   0.]\n",
      " [  2.   1.   1.]\n",
      " [  2.   1.   1.]]\n",
      "Yet another attempt:\n",
      " [[  0.   0.   0.]\n",
      " [777. 777.   0.]\n",
      " [111. 111.   0.]\n",
      " [  2.   1.   1.]\n",
      " [  2.   1.   1.]]\n"
     ]
    }
   ],
   "source": [
    "#Back to a larger structure \n",
    "a = np.zeros((5,3))\n",
    "a[1,1] = 777 #One particular element \n",
    "a[-2:,-2:] = 1 #Bottom right corner, and negative indexing and slicing \n",
    "print(a)\n",
    "\n",
    "print('Spiderman cast a shadow:')\n",
    "a[2,:] = a[1,:]/7 #Make the human row (python 2nd) 1/7th of the human second (python 1st) row\n",
    "print(a)\n",
    "\n",
    "#Make 8th column a sum of the other 2\n",
    "#1st attempt manually\n",
    "a[:,0] = a[:,1] + a[:,2]\n",
    "print('The new truth:\\n',a)\n",
    "\n",
    "#Another, smarter way\n",
    "a[:,0] = np.sum(a[:,1:],axis=1) #In this case, don't forget to tell you want horizontal squishing\n",
    "print('Yet another attempt:\\n',a)\n"
   ]
  }
 ],
 "metadata": {
  "kernelspec": {
   "display_name": "Python 3",
   "language": "python",
   "name": "python3"
  },
  "language_info": {
   "codemirror_mode": {
    "name": "ipython",
    "version": 3
   },
   "file_extension": ".py",
   "mimetype": "text/x-python",
   "name": "python",
   "nbconvert_exporter": "python",
   "pygments_lexer": "ipython3",
   "version": "3.7.4"
  }
 },
 "nbformat": 4,
 "nbformat_minor": 2
}
